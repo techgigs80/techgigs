{
 "cells": [
  {
   "cell_type": "code",
   "execution_count": 171,
   "metadata": {},
   "outputs": [],
   "source": [
    "## need packages\n",
    "import numpy as np\n",
    "import pandas as pd\n",
    "import matplotlib.pyplot as plt\n",
    "import seaborn as sns\n",
    "from functools import reduce\n",
    "from datetime import datetime, timedelta \n",
    "import statsmodels\n",
    "import operator\n",
    "import os\n",
    "import tqdm\n",
    "\n",
    "colors = ['#34495e','#2ecc71','#3498db','#FFFF00', '#e74c3c','#a9a9a9']\n",
    "s_list = pd.date_range(pd.to_datetime('2018-05-01', format='%Y-%m-%d %H:%M:%S.%f'), periods=31).tolist()\n",
    "e_list = pd.date_range(pd.to_datetime('2018-05-02', format='%Y-%m-%d %H:%M:%S.%f'), periods=31).tolist()\n",
    "sns.set(style=\"ticks\", color_codes=True)\n",
    "%matplotlib inline"
   ]
  },
  {
   "cell_type": "code",
   "execution_count": 229,
   "metadata": {},
   "outputs": [
    {
     "data": {
      "text/plain": [
       "256"
      ]
     },
     "execution_count": 229,
     "metadata": {},
     "output_type": "execute_result"
    }
   ],
   "source": [
    "os.system(\"taskset -p 0xffffffff %d\"% os.getpid())"
   ]
  },
  {
   "cell_type": "code",
   "execution_count": 2,
   "metadata": {},
   "outputs": [],
   "source": [
    "## configuration for filepath\n",
    "filepath   = '../data/'\n",
    "filename01 = 'merged_data_wo_ffill.csv'\n",
    "outputpath = '../graph/mid/objective_2/'"
   ]
  },
  {
   "cell_type": "code",
   "execution_count": 3,
   "metadata": {},
   "outputs": [],
   "source": [
    "## data type for sensing data\n",
    "data_types = {'dev_id': np.string_,\n",
    "'dev_dt': np.string_,\n",
    "'pm25': np.string_,\n",
    "'pm10': np.string_,\n",
    "'voc_ref': np.string_,\n",
    "'voc_now': np.string_,\n",
    "'humi': np.string_,\n",
    "'temp': np.string_,\n",
    "'lux': np.string_,\n",
    "'co2': np.string_,\n",
    "'pm10_idx': np.string_,\n",
    "'pm25_idx': np.string_,\n",
    "'vocs_idx': np.string_,\n",
    "'co2_idx': np.string_,\n",
    "'iaq_idx': np.string_,\n",
    "'unpl_idx': np.string_,\n",
    "'polt_idx': np.string_,\n",
    "'dt': np.string_,\n",
    "'invnr': np.string_,\n",
    "'inbdt': np.string_,\n",
    "'use_cust_id': np.string_,\n",
    "'pyn': np.string_,\n",
    "'room_cnt': np.string_,\n",
    "'do_nm': np.string_,\n",
    "'ct_nm': np.string_,\n",
    "'gu_nm': np.string_,\n",
    "'dng_nm': np.string_,\n",
    "'apts_in_date': np.string_,\n",
    "'bldg_tp': np.string_,\n",
    "'rtn_conf_dt': np.string_,\n",
    "'age': np.string_,\n",
    "'sex': np.string_,\n",
    "'cust_tpnm': np.string_}"
   ]
  },
  {
   "cell_type": "code",
   "execution_count": 4,
   "metadata": {},
   "outputs": [
    {
     "name": "stderr",
     "output_type": "stream",
     "text": [
      "<string>:2: DtypeWarning: Columns (25,28) have mixed types. Specify dtype option on import or set low_memory=False.\n"
     ]
    },
    {
     "name": "stdout",
     "output_type": "stream",
     "text": [
      "CPU times: user 7min 33s, sys: 25.3 s, total: 7min 59s\n",
      "Wall time: 7min 59s\n"
     ]
    }
   ],
   "source": [
    "%%time\n",
    "## data load\n",
    "data   = pd.read_csv(filepath + filename01, parse_dates=['dev_dt', 'apts_in_date', 'dt_x', 'dt_y', 'invnr'])"
   ]
  },
  {
   "cell_type": "markdown",
   "metadata": {},
   "source": [
    "## case I definition\n",
    "- 새벽시간(0시~6시)\n",
    "- 정음모드(mode_stng = 2)\n",
    "- pm10 >= bad (80) 의 비율이 20% 이상인 날이 31일 기준의 10일 이상\n",
    "- specific device('17202D8F1732300091', dawn data mean, std) 15 16 21 22 26"
   ]
  },
  {
   "cell_type": "code",
   "execution_count": 604,
   "metadata": {},
   "outputs": [],
   "source": [
    "target_ffill = ['pwr_stng', 'mode_stng', 'fan_speed_adj', 'light_stng', 'eco_mode_stng', 'oaq_idx']"
   ]
  },
  {
   "cell_type": "code",
   "execution_count": null,
   "metadata": {},
   "outputs": [],
   "source": []
  },
  {
   "cell_type": "code",
   "execution_count": 19,
   "metadata": {},
   "outputs": [
    {
     "data": {
      "text/plain": [
       "<function ndarray.sort>"
      ]
     },
     "execution_count": 19,
     "metadata": {},
     "output_type": "execute_result"
    }
   ],
   "source": [
    "selected_devices = data['dev_id'].unique()\n",
    "selected_devices.sort"
   ]
  },
  {
   "cell_type": "code",
   "execution_count": 20,
   "metadata": {},
   "outputs": [
    {
     "data": {
      "text/plain": [
       "1863"
      ]
     },
     "execution_count": 20,
     "metadata": {},
     "output_type": "execute_result"
    }
   ],
   "source": [
    "len(selected_devices)"
   ]
  },
  {
   "cell_type": "code",
   "execution_count": 416,
   "metadata": {},
   "outputs": [
    {
     "name": "stdout",
     "output_type": "stream",
     "text": [
      "CPU times: user 2.09 s, sys: 992 ms, total: 3.08 s\n",
      "Wall time: 3.08 s\n"
     ]
    }
   ],
   "source": [
    "%%time\n",
    "data.loc[(data['mode_stng'] == 0) & (data['fan_speed_adj'] == 0),  ['fan_speed_adj']] = np.nan\n",
    "data.loc[data['mode_stng'] == 2, ['fan_speed_adj']] = 0.5\n",
    "data.loc[data['mode_stng'] == 4, ['fan_speed_adj']] = 0\n",
    "data.loc[data['mode_stng'] == 5, ['fan_speed_adj']] = 3"
   ]
  },
  {
   "cell_type": "code",
   "execution_count": null,
   "metadata": {},
   "outputs": [],
   "source": [
    "pd.fillna()"
   ]
  },
  {
   "cell_type": "code",
   "execution_count": 417,
   "metadata": {},
   "outputs": [
    {
     "name": "stderr",
     "output_type": "stream",
     "text": [
      "/home/data/roki/.virtualenvs/coway_cp36/lib/python3.6/site-packages/pandas/core/frame.py:3697: SettingWithCopyWarning: \n",
      "A value is trying to be set on a copy of a slice from a DataFrame\n",
      "\n",
      "See the caveats in the documentation: http://pandas.pydata.org/pandas-docs/stable/indexing.html#indexing-view-versus-copy\n",
      "  errors=errors)\n",
      "/home/data/roki/.virtualenvs/coway_cp36/lib/python3.6/site-packages/pandas/core/generic.py:5434: SettingWithCopyWarning: \n",
      "A value is trying to be set on a copy of a slice from a DataFrame\n",
      "\n",
      "See the caveats in the documentation: http://pandas.pydata.org/pandas-docs/stable/indexing.html#indexing-view-versus-copy\n",
      "  self._update_inplace(new_data)\n"
     ]
    },
    {
     "name": "stdout",
     "output_type": "stream",
     "text": [
      "CPU times: user 8h 33min 15s, sys: 34.6 s, total: 8h 33min 50s\n",
      "Wall time: 8h 33min 43s\n"
     ]
    }
   ],
   "source": [
    "%%time\n",
    "device_data = [data[data['dev_id'] == name] for name in selected_devices]\n",
    "[device_data[n].reset_index(inplace=True) for n in range(len(selected_devices))]\n",
    "[device_data[n].drop('index', axis=1, inplace=True) for n in range(len(selected_devices))]\n",
    "[device_data[n][name].fillna(method='ffill', inplace=True) for n in range(len(selected_devices)) for name in target_ffill]\n",
    "[device_data[n]['ventil_alrm'].fillna(value=0, inplace=True) for n in range(len(selected_devices)) for name in target_ffill]"
   ]
  },
  {
   "cell_type": "code",
   "execution_count": 418,
   "metadata": {},
   "outputs": [
    {
     "name": "stderr",
     "output_type": "stream",
     "text": [
      "/home/data/roki/.virtualenvs/coway_cp36/lib/python3.6/site-packages/ipykernel_launcher.py:2: SettingWithCopyWarning: \n",
      "A value is trying to be set on a copy of a slice from a DataFrame.\n",
      "Try using .loc[row_indexer,col_indexer] = value instead\n",
      "\n",
      "See the caveats in the documentation: http://pandas.pydata.org/pandas-docs/stable/indexing.html#indexing-view-versus-copy\n",
      "  \n"
     ]
    },
    {
     "name": "stdout",
     "output_type": "stream",
     "text": [
      "CPU times: user 16min 38s, sys: 64 ms, total: 16min 38s\n",
      "Wall time: 16min 38s\n"
     ]
    }
   ],
   "source": [
    "%%time\n",
    "for i in range(len(device_data)):\n",
    "    device_data[i]['day'] = pd.DatetimeIndex(device_data[i]['dev_dt']).day"
   ]
  },
  {
   "cell_type": "code",
   "execution_count": 419,
   "metadata": {},
   "outputs": [],
   "source": [
    "det = lambda t, d: t.between(d, d + pd.Timedelta(6, unit='h'), inclusive=True)"
   ]
  },
  {
   "cell_type": "code",
   "execution_count": 420,
   "metadata": {},
   "outputs": [
    {
     "name": "stdout",
     "output_type": "stream",
     "text": [
      "CPU times: user 1min 49s, sys: 0 ns, total: 1min 49s\n",
      "Wall time: 1min 49s\n"
     ]
    }
   ],
   "source": [
    "%%time\n",
    "cut_device_data = [device_data[n][det(device_data[n]['dev_dt'], date)] for n in range(len(selected_devices)) for date in pd.date_range('2018-05-01', periods=31).tolist()]"
   ]
  },
  {
   "cell_type": "code",
   "execution_count": 421,
   "metadata": {},
   "outputs": [],
   "source": [
    "names = [device_data[n]['dev_id'].unique() for n in range(len(device_data))]"
   ]
  },
  {
   "cell_type": "code",
   "execution_count": 423,
   "metadata": {},
   "outputs": [
    {
     "data": {
      "text/plain": [
       "(array([968]), array([0]))"
      ]
     },
     "execution_count": 423,
     "metadata": {},
     "output_type": "execute_result"
    }
   ],
   "source": [
    "np.where(np.isin(names, '17202D8F1732300091'))"
   ]
  },
  {
   "cell_type": "code",
   "execution_count": 224,
   "metadata": {},
   "outputs": [
    {
     "data": {
      "text/plain": [
       "array(['17202D8F1732300091'], dtype=object)"
      ]
     },
     "execution_count": 224,
     "metadata": {},
     "output_type": "execute_result"
    }
   ],
   "source": [
    "device_data[968]['dev_id'].unique()"
   ]
  },
  {
   "cell_type": "code",
   "execution_count": 400,
   "metadata": {},
   "outputs": [
    {
     "data": {
      "text/plain": [
       "1863"
      ]
     },
     "execution_count": 400,
     "metadata": {},
     "output_type": "execute_result"
    }
   ],
   "source": [
    "len(selected_devices)"
   ]
  },
  {
   "cell_type": "code",
   "execution_count": 424,
   "metadata": {},
   "outputs": [
    {
     "name": "stdout",
     "output_type": "stream",
     "text": [
      "CPU times: user 1min 18s, sys: 2.31 s, total: 1min 20s\n",
      "Wall time: 1min 19s\n"
     ]
    }
   ],
   "source": [
    "%%time\n",
    "processed_dawn_data = pd.concat(cut_device_data, axis=0, ignore_index=True)"
   ]
  },
  {
   "cell_type": "code",
   "execution_count": 432,
   "metadata": {},
   "outputs": [
    {
     "name": "stdout",
     "output_type": "stream",
     "text": [
      "CPU times: user 9min 59s, sys: 4.38 s, total: 10min 3s\n",
      "Wall time: 10min 3s\n"
     ]
    }
   ],
   "source": [
    "%%time\n",
    "processed_dawn_data.to_csv(filepath + 'processed_dawn_data.csv', index=False)"
   ]
  },
  {
   "cell_type": "code",
   "execution_count": 425,
   "metadata": {},
   "outputs": [
    {
     "name": "stdout",
     "output_type": "stream",
     "text": [
      "CPU times: user 19.3 s, sys: 5.31 s, total: 24.6 s\n",
      "Wall time: 24.6 s\n"
     ]
    }
   ],
   "source": [
    "%%time\n",
    "processed_whole_data = pd.concat(device_data, axis=0, ignore_index=True)"
   ]
  },
  {
   "cell_type": "code",
   "execution_count": 430,
   "metadata": {},
   "outputs": [
    {
     "name": "stdout",
     "output_type": "stream",
     "text": [
      "CPU times: user 40min 36s, sys: 18.9 s, total: 40min 54s\n",
      "Wall time: 40min 55s\n"
     ]
    }
   ],
   "source": [
    "%%time\n",
    "processed_whole_data.to_csv(filepath + 'processed_whole_data.csv', index=False)"
   ]
  },
  {
   "cell_type": "code",
   "execution_count": 266,
   "metadata": {},
   "outputs": [],
   "source": [
    "det_pm10_grade = lambda d: 1 if d >= 80 else 0"
   ]
  },
  {
   "cell_type": "code",
   "execution_count": 273,
   "metadata": {},
   "outputs": [
    {
     "name": "stdout",
     "output_type": "stream",
     "text": [
      "CPU times: user 4.89 s, sys: 236 ms, total: 5.12 s\n",
      "Wall time: 5.12 s\n"
     ]
    }
   ],
   "source": [
    "%%time\n",
    "processed_dawn_data['pm10_grade'] = [det_pm10_grade(p) for p in processed_dawn_data['pm10']]"
   ]
  },
  {
   "cell_type": "code",
   "execution_count": 276,
   "metadata": {},
   "outputs": [
    {
     "name": "stdout",
     "output_type": "stream",
     "text": [
      "CPU times: user 1.13 s, sys: 696 ms, total: 1.82 s\n",
      "Wall time: 1.83 s\n"
     ]
    }
   ],
   "source": [
    "%%time\n",
    "slient_mode_device_data = processed_dawn_data.loc[processed_dawn_data['mode_stng'] == 2, :]"
   ]
  },
  {
   "cell_type": "code",
   "execution_count": 245,
   "metadata": {},
   "outputs": [],
   "source": [
    "yun_device = slient_mode_device_data[slient_mode_device_data['dev_id'] == '17202D8F1732300091']"
   ]
  },
  {
   "cell_type": "code",
   "execution_count": 250,
   "metadata": {},
   "outputs": [],
   "source": [
    "yum_result = yun_device[yun_device['dev_dt'].between('2018-05-21 00:00', '2018-05-21 06:00', inclusive = True)]"
   ]
  },
  {
   "cell_type": "code",
   "execution_count": 120,
   "metadata": {},
   "outputs": [
    {
     "name": "stdout",
     "output_type": "stream",
     "text": [
      "CPU times: user 92 ms, sys: 0 ns, total: 92 ms\n",
      "Wall time: 90.7 ms\n"
     ]
    }
   ],
   "source": [
    "# %%time\n",
    "# cut_slient_data = slient_mode_device_data.loc[slient_mode_device_data['pm10'] >= 80, :]"
   ]
  },
  {
   "cell_type": "markdown",
   "metadata": {},
   "source": [
    "## basis devices\n",
    "\n",
    "- ['dev_id'] == '17202D8F1732300091'"
   ]
  },
  {
   "cell_type": "code",
   "execution_count": 341,
   "metadata": {},
   "outputs": [
    {
     "name": "stdout",
     "output_type": "stream",
     "text": [
      "CPU times: user 1min 16s, sys: 1.14 s, total: 1min 17s\n",
      "Wall time: 1min 17s\n"
     ]
    }
   ],
   "source": [
    "%%time\n",
    "result_01 = processed_dawn_data.groupby(['dev_id', 'day'])['pm10_grade'].sum()\n",
    "result_02 = processed_dawn_data.groupby(['dev_id', 'day'])['pm10_grade'].describe()['count']"
   ]
  },
  {
   "cell_type": "code",
   "execution_count": 354,
   "metadata": {},
   "outputs": [],
   "source": [
    "result_01 = result_01.reset_index()\n",
    "result_02 = result_02.reset_index()"
   ]
  },
  {
   "cell_type": "code",
   "execution_count": 358,
   "metadata": {},
   "outputs": [],
   "source": [
    "result = pd.concat([result_01, result_02['count']], axis=1)"
   ]
  },
  {
   "cell_type": "code",
   "execution_count": 360,
   "metadata": {},
   "outputs": [],
   "source": [
    "result['ratio'] = result['pm10_grade'] / result['count']"
   ]
  },
  {
   "cell_type": "code",
   "execution_count": 404,
   "metadata": {},
   "outputs": [],
   "source": [
    "result['isRight'] = [g >= 0.15 for g in result['ratio']]"
   ]
  },
  {
   "cell_type": "markdown",
   "metadata": {},
   "source": [
    "## much case\n",
    "16102D8F15B2000163\n",
    "## less case\n",
    "16202D8F15C0400051\n",
    "## ambigious\n",
    "17102D8F1633000076"
   ]
  },
  {
   "cell_type": "code",
   "execution_count": 412,
   "metadata": {},
   "outputs": [
    {
     "data": {
      "text/html": [
       "<div>\n",
       "<style scoped>\n",
       "    .dataframe tbody tr th:only-of-type {\n",
       "        vertical-align: middle;\n",
       "    }\n",
       "\n",
       "    .dataframe tbody tr th {\n",
       "        vertical-align: top;\n",
       "    }\n",
       "\n",
       "    .dataframe thead th {\n",
       "        text-align: right;\n",
       "    }\n",
       "</style>\n",
       "<table border=\"1\" class=\"dataframe\">\n",
       "  <thead>\n",
       "    <tr style=\"text-align: right;\">\n",
       "      <th></th>\n",
       "      <th>dev_id</th>\n",
       "      <th>day</th>\n",
       "      <th>pm10_grade</th>\n",
       "      <th>count</th>\n",
       "      <th>ratio</th>\n",
       "      <th>isRight</th>\n",
       "    </tr>\n",
       "  </thead>\n",
       "  <tbody>\n",
       "    <tr>\n",
       "      <th>24428</th>\n",
       "      <td>17202D8F1732300091</td>\n",
       "      <td>1</td>\n",
       "      <td>227</td>\n",
       "      <td>361.0</td>\n",
       "      <td>0.628809</td>\n",
       "      <td>True</td>\n",
       "    </tr>\n",
       "    <tr>\n",
       "      <th>24429</th>\n",
       "      <td>17202D8F1732300091</td>\n",
       "      <td>2</td>\n",
       "      <td>330</td>\n",
       "      <td>362.0</td>\n",
       "      <td>0.911602</td>\n",
       "      <td>True</td>\n",
       "    </tr>\n",
       "    <tr>\n",
       "      <th>24430</th>\n",
       "      <td>17202D8F1732300091</td>\n",
       "      <td>3</td>\n",
       "      <td>108</td>\n",
       "      <td>362.0</td>\n",
       "      <td>0.298343</td>\n",
       "      <td>True</td>\n",
       "    </tr>\n",
       "    <tr>\n",
       "      <th>24431</th>\n",
       "      <td>17202D8F1732300091</td>\n",
       "      <td>4</td>\n",
       "      <td>107</td>\n",
       "      <td>364.0</td>\n",
       "      <td>0.293956</td>\n",
       "      <td>True</td>\n",
       "    </tr>\n",
       "    <tr>\n",
       "      <th>24432</th>\n",
       "      <td>17202D8F1732300091</td>\n",
       "      <td>5</td>\n",
       "      <td>159</td>\n",
       "      <td>362.0</td>\n",
       "      <td>0.439227</td>\n",
       "      <td>True</td>\n",
       "    </tr>\n",
       "    <tr>\n",
       "      <th>24433</th>\n",
       "      <td>17202D8F1732300091</td>\n",
       "      <td>6</td>\n",
       "      <td>205</td>\n",
       "      <td>362.0</td>\n",
       "      <td>0.566298</td>\n",
       "      <td>True</td>\n",
       "    </tr>\n",
       "    <tr>\n",
       "      <th>24434</th>\n",
       "      <td>17202D8F1732300091</td>\n",
       "      <td>7</td>\n",
       "      <td>104</td>\n",
       "      <td>362.0</td>\n",
       "      <td>0.287293</td>\n",
       "      <td>True</td>\n",
       "    </tr>\n",
       "    <tr>\n",
       "      <th>24435</th>\n",
       "      <td>17202D8F1732300091</td>\n",
       "      <td>8</td>\n",
       "      <td>110</td>\n",
       "      <td>361.0</td>\n",
       "      <td>0.304709</td>\n",
       "      <td>True</td>\n",
       "    </tr>\n",
       "    <tr>\n",
       "      <th>24436</th>\n",
       "      <td>17202D8F1732300091</td>\n",
       "      <td>9</td>\n",
       "      <td>25</td>\n",
       "      <td>363.0</td>\n",
       "      <td>0.068871</td>\n",
       "      <td>False</td>\n",
       "    </tr>\n",
       "    <tr>\n",
       "      <th>24437</th>\n",
       "      <td>17202D8F1732300091</td>\n",
       "      <td>10</td>\n",
       "      <td>26</td>\n",
       "      <td>362.0</td>\n",
       "      <td>0.071823</td>\n",
       "      <td>False</td>\n",
       "    </tr>\n",
       "    <tr>\n",
       "      <th>24438</th>\n",
       "      <td>17202D8F1732300091</td>\n",
       "      <td>11</td>\n",
       "      <td>245</td>\n",
       "      <td>362.0</td>\n",
       "      <td>0.676796</td>\n",
       "      <td>True</td>\n",
       "    </tr>\n",
       "    <tr>\n",
       "      <th>24439</th>\n",
       "      <td>17202D8F1732300091</td>\n",
       "      <td>12</td>\n",
       "      <td>140</td>\n",
       "      <td>363.0</td>\n",
       "      <td>0.385675</td>\n",
       "      <td>True</td>\n",
       "    </tr>\n",
       "    <tr>\n",
       "      <th>24440</th>\n",
       "      <td>17202D8F1732300091</td>\n",
       "      <td>13</td>\n",
       "      <td>1</td>\n",
       "      <td>362.0</td>\n",
       "      <td>0.002762</td>\n",
       "      <td>False</td>\n",
       "    </tr>\n",
       "    <tr>\n",
       "      <th>24441</th>\n",
       "      <td>17202D8F1732300091</td>\n",
       "      <td>14</td>\n",
       "      <td>307</td>\n",
       "      <td>362.0</td>\n",
       "      <td>0.848066</td>\n",
       "      <td>True</td>\n",
       "    </tr>\n",
       "    <tr>\n",
       "      <th>24442</th>\n",
       "      <td>17202D8F1732300091</td>\n",
       "      <td>15</td>\n",
       "      <td>359</td>\n",
       "      <td>362.0</td>\n",
       "      <td>0.991713</td>\n",
       "      <td>True</td>\n",
       "    </tr>\n",
       "    <tr>\n",
       "      <th>24443</th>\n",
       "      <td>17202D8F1732300091</td>\n",
       "      <td>16</td>\n",
       "      <td>341</td>\n",
       "      <td>362.0</td>\n",
       "      <td>0.941989</td>\n",
       "      <td>True</td>\n",
       "    </tr>\n",
       "    <tr>\n",
       "      <th>24444</th>\n",
       "      <td>17202D8F1732300091</td>\n",
       "      <td>17</td>\n",
       "      <td>124</td>\n",
       "      <td>360.0</td>\n",
       "      <td>0.344444</td>\n",
       "      <td>True</td>\n",
       "    </tr>\n",
       "    <tr>\n",
       "      <th>24445</th>\n",
       "      <td>17202D8F1732300091</td>\n",
       "      <td>18</td>\n",
       "      <td>1</td>\n",
       "      <td>362.0</td>\n",
       "      <td>0.002762</td>\n",
       "      <td>False</td>\n",
       "    </tr>\n",
       "    <tr>\n",
       "      <th>24446</th>\n",
       "      <td>17202D8F1732300091</td>\n",
       "      <td>19</td>\n",
       "      <td>1</td>\n",
       "      <td>362.0</td>\n",
       "      <td>0.002762</td>\n",
       "      <td>False</td>\n",
       "    </tr>\n",
       "    <tr>\n",
       "      <th>24447</th>\n",
       "      <td>17202D8F1732300091</td>\n",
       "      <td>20</td>\n",
       "      <td>0</td>\n",
       "      <td>362.0</td>\n",
       "      <td>0.000000</td>\n",
       "      <td>False</td>\n",
       "    </tr>\n",
       "    <tr>\n",
       "      <th>24448</th>\n",
       "      <td>17202D8F1732300091</td>\n",
       "      <td>21</td>\n",
       "      <td>70</td>\n",
       "      <td>362.0</td>\n",
       "      <td>0.193370</td>\n",
       "      <td>True</td>\n",
       "    </tr>\n",
       "    <tr>\n",
       "      <th>24449</th>\n",
       "      <td>17202D8F1732300091</td>\n",
       "      <td>22</td>\n",
       "      <td>239</td>\n",
       "      <td>363.0</td>\n",
       "      <td>0.658402</td>\n",
       "      <td>True</td>\n",
       "    </tr>\n",
       "    <tr>\n",
       "      <th>24450</th>\n",
       "      <td>17202D8F1732300091</td>\n",
       "      <td>23</td>\n",
       "      <td>3</td>\n",
       "      <td>362.0</td>\n",
       "      <td>0.008287</td>\n",
       "      <td>False</td>\n",
       "    </tr>\n",
       "    <tr>\n",
       "      <th>24451</th>\n",
       "      <td>17202D8F1732300091</td>\n",
       "      <td>24</td>\n",
       "      <td>101</td>\n",
       "      <td>361.0</td>\n",
       "      <td>0.279778</td>\n",
       "      <td>True</td>\n",
       "    </tr>\n",
       "    <tr>\n",
       "      <th>24452</th>\n",
       "      <td>17202D8F1732300091</td>\n",
       "      <td>25</td>\n",
       "      <td>275</td>\n",
       "      <td>362.0</td>\n",
       "      <td>0.759669</td>\n",
       "      <td>True</td>\n",
       "    </tr>\n",
       "    <tr>\n",
       "      <th>24453</th>\n",
       "      <td>17202D8F1732300091</td>\n",
       "      <td>26</td>\n",
       "      <td>311</td>\n",
       "      <td>363.0</td>\n",
       "      <td>0.856749</td>\n",
       "      <td>True</td>\n",
       "    </tr>\n",
       "    <tr>\n",
       "      <th>24454</th>\n",
       "      <td>17202D8F1732300091</td>\n",
       "      <td>27</td>\n",
       "      <td>207</td>\n",
       "      <td>362.0</td>\n",
       "      <td>0.571823</td>\n",
       "      <td>True</td>\n",
       "    </tr>\n",
       "    <tr>\n",
       "      <th>24455</th>\n",
       "      <td>17202D8F1732300091</td>\n",
       "      <td>28</td>\n",
       "      <td>15</td>\n",
       "      <td>362.0</td>\n",
       "      <td>0.041436</td>\n",
       "      <td>False</td>\n",
       "    </tr>\n",
       "    <tr>\n",
       "      <th>24456</th>\n",
       "      <td>17202D8F1732300091</td>\n",
       "      <td>29</td>\n",
       "      <td>128</td>\n",
       "      <td>362.0</td>\n",
       "      <td>0.353591</td>\n",
       "      <td>True</td>\n",
       "    </tr>\n",
       "    <tr>\n",
       "      <th>24457</th>\n",
       "      <td>17202D8F1732300091</td>\n",
       "      <td>30</td>\n",
       "      <td>145</td>\n",
       "      <td>361.0</td>\n",
       "      <td>0.401662</td>\n",
       "      <td>True</td>\n",
       "    </tr>\n",
       "    <tr>\n",
       "      <th>24458</th>\n",
       "      <td>17202D8F1732300091</td>\n",
       "      <td>31</td>\n",
       "      <td>123</td>\n",
       "      <td>362.0</td>\n",
       "      <td>0.339779</td>\n",
       "      <td>True</td>\n",
       "    </tr>\n",
       "  </tbody>\n",
       "</table>\n",
       "</div>"
      ],
      "text/plain": [
       "                   dev_id  day  pm10_grade  count     ratio  isRight\n",
       "24428  17202D8F1732300091    1         227  361.0  0.628809     True\n",
       "24429  17202D8F1732300091    2         330  362.0  0.911602     True\n",
       "24430  17202D8F1732300091    3         108  362.0  0.298343     True\n",
       "24431  17202D8F1732300091    4         107  364.0  0.293956     True\n",
       "24432  17202D8F1732300091    5         159  362.0  0.439227     True\n",
       "24433  17202D8F1732300091    6         205  362.0  0.566298     True\n",
       "24434  17202D8F1732300091    7         104  362.0  0.287293     True\n",
       "24435  17202D8F1732300091    8         110  361.0  0.304709     True\n",
       "24436  17202D8F1732300091    9          25  363.0  0.068871    False\n",
       "24437  17202D8F1732300091   10          26  362.0  0.071823    False\n",
       "24438  17202D8F1732300091   11         245  362.0  0.676796     True\n",
       "24439  17202D8F1732300091   12         140  363.0  0.385675     True\n",
       "24440  17202D8F1732300091   13           1  362.0  0.002762    False\n",
       "24441  17202D8F1732300091   14         307  362.0  0.848066     True\n",
       "24442  17202D8F1732300091   15         359  362.0  0.991713     True\n",
       "24443  17202D8F1732300091   16         341  362.0  0.941989     True\n",
       "24444  17202D8F1732300091   17         124  360.0  0.344444     True\n",
       "24445  17202D8F1732300091   18           1  362.0  0.002762    False\n",
       "24446  17202D8F1732300091   19           1  362.0  0.002762    False\n",
       "24447  17202D8F1732300091   20           0  362.0  0.000000    False\n",
       "24448  17202D8F1732300091   21          70  362.0  0.193370     True\n",
       "24449  17202D8F1732300091   22         239  363.0  0.658402     True\n",
       "24450  17202D8F1732300091   23           3  362.0  0.008287    False\n",
       "24451  17202D8F1732300091   24         101  361.0  0.279778     True\n",
       "24452  17202D8F1732300091   25         275  362.0  0.759669     True\n",
       "24453  17202D8F1732300091   26         311  363.0  0.856749     True\n",
       "24454  17202D8F1732300091   27         207  362.0  0.571823     True\n",
       "24455  17202D8F1732300091   28          15  362.0  0.041436    False\n",
       "24456  17202D8F1732300091   29         128  362.0  0.353591     True\n",
       "24457  17202D8F1732300091   30         145  361.0  0.401662     True\n",
       "24458  17202D8F1732300091   31         123  362.0  0.339779     True"
      ]
     },
     "execution_count": 412,
     "metadata": {},
     "output_type": "execute_result"
    }
   ],
   "source": [
    "result[result['dev_id'] == '17202D8F1732300091']"
   ]
  },
  {
   "cell_type": "code",
   "execution_count": 413,
   "metadata": {},
   "outputs": [],
   "source": [
    "result_devices = result.groupby('dev_id')['isRight'].sum().reset_index()"
   ]
  },
  {
   "cell_type": "code",
   "execution_count": 414,
   "metadata": {},
   "outputs": [
    {
     "data": {
      "text/plain": [
       "0.06333870101986044"
      ]
     },
     "execution_count": 414,
     "metadata": {},
     "output_type": "execute_result"
    }
   ],
   "source": [
    "len(result_devices[result_devices['isRight'] >= 7]) / len(selected_devices)"
   ]
  },
  {
   "cell_type": "code",
   "execution_count": 143,
   "metadata": {},
   "outputs": [],
   "source": [
    "dawn_devies = slient_mode_device_data['dev_id'].unique()"
   ]
  },
  {
   "cell_type": "code",
   "execution_count": 265,
   "metadata": {},
   "outputs": [],
   "source": [
    "det_devices = lambda d: 1 if d in dawn_devies else 0"
   ]
  },
  {
   "cell_type": "code",
   "execution_count": 198,
   "metadata": {},
   "outputs": [
    {
     "name": "stdout",
     "output_type": "stream",
     "text": [
      "CPU times: user 3.44 s, sys: 140 ms, total: 3.58 s\n",
      "Wall time: 3.46 s\n"
     ]
    }
   ],
   "source": [
    "%%time\n",
    "case_I_result['slient'] = [det_devices(case_I_result.loc[n, 'dev_id']) for n in range(len(case_I_result))]"
   ]
  },
  {
   "cell_type": "code",
   "execution_count": 188,
   "metadata": {
    "scrolled": true
   },
   "outputs": [
    {
     "name": "stdout",
     "output_type": "stream",
     "text": [
      "CPU times: user 488 ms, sys: 8 ms, total: 496 ms\n",
      "Wall time: 487 ms\n"
     ]
    }
   ],
   "source": [
    "%%time\n",
    "case_I_result_dev['slient'] = [det_devices(case_I_result_dev.loc[n, 'dev_id']) for n in range(len(case_I_result_dev))]"
   ]
  },
  {
   "cell_type": "markdown",
   "metadata": {},
   "source": [
    "## case II definition\n",
    "- pm10이 특정값 들로만 센싱되는 경우"
   ]
  },
  {
   "cell_type": "code",
   "execution_count": 500,
   "metadata": {},
   "outputs": [],
   "source": [
    "test = device_data[0].groupby(['day', 'pm10'])['pm10'].value_counts()"
   ]
  },
  {
   "cell_type": "code",
   "execution_count": null,
   "metadata": {},
   "outputs": [],
   "source": [
    "aggfunc=lambda x: len(x.unique())"
   ]
  },
  {
   "cell_type": "code",
   "execution_count": 589,
   "metadata": {},
   "outputs": [],
   "source": [
    "test_result = pd.pivot_table(device_data[0], index='pm10', columns='day', values='dev_dt', aggfunc='count', dropna=True)"
   ]
  },
  {
   "cell_type": "code",
   "execution_count": 603,
   "metadata": {},
   "outputs": [
    {
     "data": {
      "text/plain": [
       "array([530., 664., 621., 330., 325., 646., 537., 745., 524., 400., 114.,\n",
       "       539., 360., 147., 465., 277., 462., 696., 453., 541., 318., 183.,\n",
       "       464., 377., 215., 307., 289., 255.])"
      ]
     },
     "execution_count": 603,
     "metadata": {},
     "output_type": "execute_result"
    }
   ],
   "source": [
    "np.sum([test_result.loc[:, v].nlargest(5).tolist() for v in test_result.columns.values], axis=1)"
   ]
  },
  {
   "cell_type": "code",
   "execution_count": 581,
   "metadata": {},
   "outputs": [],
   "source": [
    "?pd.Series.sort_values"
   ]
  },
  {
   "cell_type": "code",
   "execution_count": 580,
   "metadata": {},
   "outputs": [
    {
     "data": {
      "text/plain": [
       "pm10\n",
       "0.0      266.0\n",
       "2.0      118.0\n",
       "1.0      100.0\n",
       "3.0       96.0\n",
       "4.0       84.0\n",
       "5.0       73.0\n",
       "7.0       63.0\n",
       "6.0       54.0\n",
       "8.0       47.0\n",
       "9.0       42.0\n",
       "10.0      35.0\n",
       "12.0      34.0\n",
       "11.0      31.0\n",
       "15.0      28.0\n",
       "23.0      25.0\n",
       "17.0      25.0\n",
       "18.0      24.0\n",
       "21.0      24.0\n",
       "14.0      19.0\n",
       "16.0      19.0\n",
       "22.0      19.0\n",
       "13.0      19.0\n",
       "20.0      17.0\n",
       "19.0      16.0\n",
       "25.0      14.0\n",
       "24.0      12.0\n",
       "27.0      11.0\n",
       "26.0      10.0\n",
       "28.0      10.0\n",
       "35.0       8.0\n",
       "         ...  \n",
       "432.0      NaN\n",
       "433.0      NaN\n",
       "435.0      NaN\n",
       "436.0      NaN\n",
       "437.0      NaN\n",
       "439.0      NaN\n",
       "442.0      NaN\n",
       "443.0      NaN\n",
       "449.0      NaN\n",
       "457.0      NaN\n",
       "469.0      NaN\n",
       "471.0      NaN\n",
       "472.0      NaN\n",
       "487.0      NaN\n",
       "497.0      NaN\n",
       "502.0      NaN\n",
       "507.0      NaN\n",
       "512.0      NaN\n",
       "522.0      NaN\n",
       "528.0      NaN\n",
       "549.0      NaN\n",
       "568.0      NaN\n",
       "577.0      NaN\n",
       "580.0      NaN\n",
       "586.0      NaN\n",
       "594.0      NaN\n",
       "612.0      NaN\n",
       "642.0      NaN\n",
       "706.0      NaN\n",
       "718.0      NaN\n",
       "Name: 2, Length: 343, dtype: float64"
      ]
     },
     "execution_count": 580,
     "metadata": {},
     "output_type": "execute_result"
    }
   ],
   "source": [
    "test_result.loc[:, 2].sort_values(ascending=False, )"
   ]
  },
  {
   "cell_type": "code",
   "execution_count": 578,
   "metadata": {},
   "outputs": [
    {
     "data": {
      "text/plain": [
       "pm10\n",
       "0.0     343.0\n",
       "2.0      91.0\n",
       "1.0      71.0\n",
       "3.0      63.0\n",
       "4.0      53.0\n",
       "9.0      38.0\n",
       "18.0     38.0\n",
       "5.0      37.0\n",
       "Name: 3, dtype: float64"
      ]
     },
     "execution_count": 578,
     "metadata": {},
     "output_type": "execute_result"
    }
   ],
   "source": [
    "test_result.loc[:, 3].sort_values(ascending=False)[:5]"
   ]
  },
  {
   "cell_type": "code",
   "execution_count": 560,
   "metadata": {},
   "outputs": [
    {
     "data": {
      "text/plain": [
       "[199.0, 93.0, 93.0, 77.0, 68.0, 54.0, 49.0]"
      ]
     },
     "execution_count": 560,
     "metadata": {},
     "output_type": "execute_result"
    }
   ],
   "source": [
    "a[0]"
   ]
  },
  {
   "cell_type": "code",
   "execution_count": 559,
   "metadata": {},
   "outputs": [
    {
     "data": {
      "text/plain": [
       "[7,\n",
       " 6,\n",
       " 8,\n",
       " 4,\n",
       " 6,\n",
       " 6,\n",
       " 5,\n",
       " 6,\n",
       " 8,\n",
       " 21,\n",
       " 73,\n",
       " 4,\n",
       " 6,\n",
       " 67,\n",
       " 7,\n",
       " 13,\n",
       " 4,\n",
       " 5,\n",
       " 7,\n",
       " 5,\n",
       " 2,\n",
       " 7,\n",
       " 9,\n",
       " 7,\n",
       " 12,\n",
       " 5,\n",
       " 4,\n",
       " 6]"
      ]
     },
     "execution_count": 559,
     "metadata": {},
     "output_type": "execute_result"
    }
   ],
   "source": [
    "[len(v) for v in a]"
   ]
  },
  {
   "cell_type": "code",
   "execution_count": 548,
   "metadata": {},
   "outputs": [
    {
     "data": {
      "text/plain": [
       "[199.0, 93.0, 93.0, 77.0, 68.0, 54.0, 49.0]"
      ]
     },
     "execution_count": 548,
     "metadata": {},
     "output_type": "execute_result"
    }
   ],
   "source": [
    "test_result.loc[:, 1].sort_values(ascending=False)[:5].tolist()"
   ]
  },
  {
   "cell_type": "code",
   "execution_count": null,
   "metadata": {},
   "outputs": [],
   "source": []
  },
  {
   "cell_type": "code",
   "execution_count": null,
   "metadata": {},
   "outputs": [],
   "source": []
  },
  {
   "cell_type": "code",
   "execution_count": null,
   "metadata": {},
   "outputs": [],
   "source": []
  },
  {
   "cell_type": "code",
   "execution_count": null,
   "metadata": {},
   "outputs": [],
   "source": []
  },
  {
   "cell_type": "code",
   "execution_count": null,
   "metadata": {},
   "outputs": [],
   "source": []
  },
  {
   "cell_type": "code",
   "execution_count": null,
   "metadata": {},
   "outputs": [],
   "source": []
  },
  {
   "cell_type": "code",
   "execution_count": null,
   "metadata": {},
   "outputs": [],
   "source": []
  },
  {
   "cell_type": "code",
   "execution_count": null,
   "metadata": {},
   "outputs": [],
   "source": []
  },
  {
   "cell_type": "code",
   "execution_count": null,
   "metadata": {},
   "outputs": [],
   "source": []
  },
  {
   "cell_type": "code",
   "execution_count": null,
   "metadata": {},
   "outputs": [],
   "source": []
  },
  {
   "cell_type": "markdown",
   "metadata": {},
   "source": [
    "## Case I visualization\n",
    "- x-axis = std\n",
    "- y-axis = pm10 mean\n",
    "- color = isSlient"
   ]
  },
  {
   "cell_type": "code",
   "execution_count": 200,
   "metadata": {},
   "outputs": [
    {
     "name": "stdout",
     "output_type": "stream",
     "text": [
      "CPU times: user 184 ms, sys: 16 ms, total: 200 ms\n",
      "Wall time: 169 ms\n"
     ]
    },
    {
     "data": {
      "image/png": "[encoded data removed]",
      "text/plain": [
       "<Figure size 2160x576 with 1 Axes>"
      ]
     },
     "metadata": {},
     "output_type": "display_data"
    }
   ],
   "source": [
    "%%time\n",
    "plt.style.use('seaborn-darkgrid')\n",
    "kws = dict(s=50, linewidth=.5, edgecolor=\"w\", alpha=.5)\n",
    "\n",
    "fig = plt.figure(figsize=(30,8))\n",
    "# Initialize the figure\n",
    "palette = sns.color_palette()\n",
    "sns.set_palette(colors)\n",
    "plt.style.use('seaborn-darkgrid')\n",
    "\n",
    "ax = sns.scatterplot(x=\"std\", y=\"mean\", hue=\"slient\", legend='full', palette=[palette[0], palette[3]], data=case_I_result, **kws)\n",
    "plt.title(\"daily pm10 mean & std at dawn \")\n",
    "plt.axhline(150,  color='r', linestyle='--', alpha=0.5)\n",
    "# ax = sns.distplot(case_I_result['std'], bins=100, hist_kws=dict(cumulative=True), kde_kws=dict(cumulative=True))\n",
    "# plt.xlim((startDate, endDate))\n",
    "# plt.axhline(30,  color='b', linestyle='--', alpha=0.5)\n",
    "# plt.axhline(150, color='r', linestyle='--', alpha=0.5)\n",
    "# ticks = ax.get_xticks()\n",
    "# plt.axvline(ticks[2], color='k', linestyle='--', alpha=0.5)\n",
    "# plt.axvline(ticks[4], color='k', linestyle='--', alpha=0.5)\n",
    "# plt.axvline(ticks[6], color='k', linestyle='--', alpha=0.5)"
   ]
  },
  {
   "cell_type": "code",
   "execution_count": 204,
   "metadata": {},
   "outputs": [
    {
     "name": "stdout",
     "output_type": "stream",
     "text": [
      "CPU times: user 48 ms, sys: 32 ms, total: 80 ms\n",
      "Wall time: 41.8 ms\n"
     ]
    },
    {
     "data": {
      "image/png": "[encoded data removed]",
      "text/plain": [
       "<Figure size 2160x576 with 1 Axes>"
      ]
     },
     "metadata": {},
     "output_type": "display_data"
    }
   ],
   "source": [
    "%%time\n",
    "plt.style.use('seaborn-darkgrid')\n",
    "kws = dict(s=50, linewidth=.5, edgecolor=\"w\", alpha=.5)\n",
    "\n",
    "fig = plt.figure(figsize=(30,8))\n",
    "# Initialize the figure\n",
    "palette = sns.color_palette()\n",
    "sns.set_palette(colors)\n",
    "plt.style.use('seaborn-darkgrid')\n",
    "\n",
    "ax = sns.scatterplot(x=\"std\", y=\"mean\", hue=\"slient\", legend='full', palette=[palette[0], palette[3]], data=case_I_result_dev, **kws)\n",
    "plt.title(\"pm10 mean & std at dawn(cut)\")\n",
    "# ax = sns.distplot(case_I_result['std'], bins=100, hist_kws=dict(cumulative=True), kde_kws=dict(cumulative=True))\n",
    "# plt.xlim((0, 100))\n",
    "plt.axhline(150,  color='r', linestyle='--', alpha=0.5)\n",
    "plt.axhline(58.1243,  color='k', linestyle='--', alpha=0.5)\n",
    "plt.axvline(38.0256, color='k', linestyle='--', alpha=0.5)\n",
    "# ticks = ax.get_xticks()\n",
    "# plt.axvline(ticks[2], color='k', linestyle='--', alpha=0.5)\n",
    "# plt.axvline(ticks[4], color='k', linestyle='--', alpha=0.5)\n",
    "# plt.axvline(ticks[6], color='k', linestyle='--', alpha=0.5)"
   ]
  },
  {
   "cell_type": "code",
   "execution_count": 203,
   "metadata": {},
   "outputs": [
    {
     "name": "stdout",
     "output_type": "stream",
     "text": [
      "CPU times: user 76 ms, sys: 0 ns, total: 76 ms\n",
      "Wall time: 72.9 ms\n"
     ]
    },
    {
     "data": {
      "image/png": "[encoded data removed]",
      "text/plain": [
       "<Figure size 2160x576 with 1 Axes>"
      ]
     },
     "metadata": {},
     "output_type": "display_data"
    }
   ],
   "source": [
    "%%time\n",
    "plt.style.use('seaborn-darkgrid')\n",
    "kws = dict(s=50, linewidth=.5, edgecolor=\"w\", alpha=.5)\n",
    "\n",
    "fig = plt.figure(figsize=(30,8))\n",
    "# Initialize the figure\n",
    "palette = sns.color_palette()\n",
    "sns.set_palette(colors)\n",
    "plt.style.use('seaborn-darkgrid')\n",
    "\n",
    "# ax = sns.scatterplot(x=\"std\", y=\"mean\", hue=\"slient\", legend='full', palette=[palette[0], palette[3]], data=case_I_result_dev, **kws)\n",
    "# ax = sns.distplot(case_I_result_dev['std'], bins=100, hist_kws=dict(cumulative=True), kde_kws=dict(cumulative=True))\n",
    "ax = sns.distplot(case_I_result_dev['std'], bins=100)\n",
    "plt.title(\"pm10 mean & std at dawn(cut)\")\n",
    "plt.axvline(38.0256, color='k', linestyle='--', alpha=0.5)\n",
    "plt.xlim((0, 100))\n",
    "# plt.xlim((startDate, endDate))\n",
    "# plt.axhline(30,  color='b', linestyle='--', alpha=0.5)\n",
    "# plt.axhline(150, color='r', linestyle='--', alpha=0.5)\n",
    "# ticks = ax.get_xticks()\n",
    "# plt.axvline(ticks[2], color='k', linestyle='--', alpha=0.5)\n",
    "# plt.axvline(ticks[4], color='k', linestyle='--', alpha=0.5)\n",
    "# plt.axvline(ticks[6], color='k', linestyle='--', alpha=0.5)"
   ]
  },
  {
   "cell_type": "code",
   "execution_count": 47,
   "metadata": {},
   "outputs": [],
   "source": [
    "def generate_graph(data, s_date, e_date, path, save=False):\n",
    "    target_data = data[data['dev_dt'].between(s_date, e_date)]\n",
    "    if not os.path.exists(path + data['dev_id'].unique()[0]):\n",
    "        os.makedirs(path + data['dev_id'].unique()[0])\n",
    "        \n",
    "    ## graph configure\n",
    "    colors = ['#34495e','#2ecc71','#3498db','#FFFF33','#e74c3c','#a9a9a9']\n",
    "    sns.set_palette(colors)\n",
    "    plt.style.use('seaborn-darkgrid')\n",
    "    kws = dict(s=20, linewidth=.5, edgecolor=\"w\")\n",
    "    modes = target_data['mode_stng'].unique()\n",
    "    modes.sort()\n",
    "    \n",
    "    print(data['dev_id'].unique()[0], s_date, e_date)\n",
    "\n",
    "    fig = plt.figure(figsize=(30,10))\n",
    "    axe01 = plt.subplot2grid((4,4), (0,0), rowspan = 1, colspan = 4)\n",
    "    if len(modes) == 1:\n",
    "        if np.isnan(modes[0]):\n",
    "            sns.scatterplot(x=\"dev_dt\", y=\"pm10\", palette=colors[-1], data=target_data, legend='full',**kws)\n",
    "        else:\n",
    "            sns.scatterplot(x=\"dev_dt\", y=\"pm10\", palette=colors[int(modes[0])], data=target_data, legend='full',**kws)\n",
    "    else:\n",
    "        sns.scatterplot(x=\"dev_dt\", y=\"pm10\", hue=\"mode_stng\", palette=[colors[int(n)] for n in modes if not np.isnan(n)], data=target_data, legend='full',**kws)\n",
    "    plt.axhline(30,  color='b', linestyle='--', alpha=0.5)\n",
    "    plt.axhline(150, color='r', linestyle='--', alpha=0.5)\n",
    "    plt.axvline(pd.date_range(s_date, e_date, periods=9).tolist()[2], color='k', linestyle='--', alpha=0.5)\n",
    "    plt.axvline(pd.date_range(s_date, e_date, periods=9).tolist()[4], color='k', linestyle='--', alpha=0.5)\n",
    "    plt.axvline(pd.date_range(s_date, e_date, periods=9).tolist()[6], color='k', linestyle='--', alpha=0.5)\n",
    "    axe01.xaxis.label.set_visible(False)\n",
    "    axe01.xaxis.set_ticklabels([])\n",
    "    plt.xlim((s_date, e_date))\n",
    "\n",
    "    axe02 = plt.subplot2grid((4,4), (1,0), rowspan = 1, colspan = 4)\n",
    "    if len(modes) == 1:\n",
    "        if np.isnan(modes[0]):\n",
    "            sns.scatterplot(x=\"dev_dt\", y=\"co2\", palette=colors[-1], data=target_data, legend='full',**kws)\n",
    "        else:\n",
    "            sns.scatterplot(x=\"dev_dt\", y=\"co2\", palette=colors[int(modes[0])], data=target_data, legend='full',**kws)\n",
    "    else:\n",
    "        sns.scatterplot(x=\"dev_dt\", y=\"co2\", hue=\"mode_stng\", palette=[colors[int(n)] for n in modes if not np.isnan(n)], data=target_data, legend='full',**kws)\n",
    "    plt.axhline(600,  color='b', linestyle='--', alpha=0.5)\n",
    "    plt.axvline(pd.date_range(s_date, e_date, periods=9).tolist()[2], color='k', linestyle='--', alpha=0.5)\n",
    "    plt.axvline(pd.date_range(s_date, e_date, periods=9).tolist()[4], color='k', linestyle='--', alpha=0.5)\n",
    "    plt.axvline(pd.date_range(s_date, e_date, periods=9).tolist()[6], color='k', linestyle='--', alpha=0.5)\n",
    "    axe02.xaxis.label.set_visible(False)\n",
    "    axe02.xaxis.set_ticklabels([])\n",
    "    plt.xlim((s_date, e_date))\n",
    "\n",
    "    axe03 = plt.subplot2grid((4,4), (2,0), rowspan = 1, colspan = 4)\n",
    "    if len(modes) == 1:\n",
    "        if np.isnan(modes[0]):\n",
    "            sns.scatterplot(x=\"dev_dt\", y=\"lux\", palette=colors[-1], data=target_data, legend='full',**kws)\n",
    "        else:\n",
    "            sns.scatterplot(x=\"dev_dt\", y=\"lux\", palette=colors[int(modes[0])], data=target_data, legend='full',**kws)\n",
    "    else:\n",
    "        sns.scatterplot(x=\"dev_dt\", y=\"lux\", hue=\"mode_stng\", palette=[colors[int(n)] for n in modes if not np.isnan(n)], data=target_data, legend='full',**kws)\n",
    "    plt.axvline(pd.date_range(s_date, e_date, periods=9).tolist()[2], color='k', linestyle='--', alpha=0.5)\n",
    "    plt.axvline(pd.date_range(s_date, e_date, periods=9).tolist()[4], color='k', linestyle='--', alpha=0.5)\n",
    "    plt.axvline(pd.date_range(s_date, e_date, periods=9).tolist()[6], color='k', linestyle='--', alpha=0.5)\n",
    "    axe03.xaxis.label.set_visible(False)\n",
    "    axe03.xaxis.set_ticklabels([])\n",
    "    plt.xlim((s_date, e_date))\n",
    "\n",
    "    axe04 = plt.subplot2grid((4,4), (3,0), rowspan = 1, colspan = 4)\n",
    "    if len(modes) == 1:\n",
    "        if np.isnan(modes[0]):\n",
    "            sns.scatterplot(x=\"dev_dt\", y=\"fan_speed_adj\", palette=colors[-1], data=target_data, legend='full',**kws)\n",
    "        else:\n",
    "            sns.scatterplot(x=\"dev_dt\", y=\"fan_speed_adj\", palette=colors[int(modes[0])], data=target_data, legend='full',**kws)\n",
    "    else:\n",
    "        sns.scatterplot(x=\"dev_dt\", y=\"fan_speed_adj\", hue=\"mode_stng\", palette=[colors[int(n)] for n in modes if not np.isnan(n)], data=target_data, legend='full',**kws)\n",
    "    plt.axvline(pd.date_range(s_date, e_date, periods=9).tolist()[2], color='k', linestyle='--', alpha=0.5)\n",
    "    plt.axvline(pd.date_range(s_date, e_date, periods=9).tolist()[4], color='k', linestyle='--', alpha=0.5)\n",
    "    plt.axvline(pd.date_range(s_date, e_date, periods=9).tolist()[6], color='k', linestyle='--', alpha=0.5)\n",
    "    plt.xlim((s_date, e_date))\n",
    "    axe04.set_yticks([0, 1, 2, 3])\n",
    "    \n",
    "    plt.tight_layout()\n",
    "    if save:\n",
    "        fig.savefig(path + data['dev_id'].unique()[0] + '/' + s_date.strftime('%Y%m%d') +'.png')\n",
    "        plt.close('all')"
   ]
  }
 ],
 "metadata": {
  "kernelspec": {
   "display_name": "coway_cp36",
   "language": "python",
   "name": "coway_cp36"
  },
  "language_info": {
   "codemirror_mode": {
    "name": "ipython",
    "version": 3
   },
   "file_extension": ".py",
   "mimetype": "text/x-python",
   "name": "python",
   "nbconvert_exporter": "python",
   "pygments_lexer": "ipython3",
   "version": "3.6.7"
  }
 },
 "nbformat": 4,
 "nbformat_minor": 2
}
