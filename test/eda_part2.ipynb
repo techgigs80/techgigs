{
 "cells": [
  {
   "cell_type": "code",
   "execution_count": 1,
   "metadata": {},
   "outputs": [],
   "source": [
    "## need packages\n",
    "import numpy as np\n",
    "import pandas as pd\n",
    "import matplotlib.pyplot as plt\n",
    "import matplotlib.ticker as ticker\n",
    "import seaborn as sns\n",
    "from functools import reduce\n",
    "from datetime import timedelta \n",
    "import operator\n",
    "import os\n",
    "sns.set(style=\"ticks\", color_codes=True)\n",
    "%matplotlib inline"
   ]
  },
  {
   "cell_type": "code",
   "execution_count": 2,
   "metadata": {},
   "outputs": [],
   "source": [
    "## configuration for filepath\n",
    "filepath   = '../data/'\n",
    "filename01 = 'merged_data_wo_ffill.csv'\n",
    "outputpath = '../graph/mid/objective_2/'"
   ]
  },
  {
   "cell_type": "code",
   "execution_count": 3,
   "metadata": {},
   "outputs": [],
   "source": [
    "## data type for sensing data\n",
    "data_types = {'dev_id': np.string_,\n",
    "'dev_dt': np.string_,\n",
    "'pm25': np.string_,\n",
    "'pm10': np.string_,\n",
    "'voc_ref': np.string_,\n",
    "'voc_now': np.string_,\n",
    "'humi': np.string_,\n",
    "'temp': np.string_,\n",
    "'lux': np.string_,\n",
    "'co2': np.string_,\n",
    "'pm10_idx': np.string_,\n",
    "'pm25_idx': np.string_,\n",
    "'vocs_idx': np.string_,\n",
    "'co2_idx': np.string_,\n",
    "'iaq_idx': np.string_,\n",
    "'unpl_idx': np.string_,\n",
    "'polt_idx': np.string_,\n",
    "'dt': np.string_,\n",
    "'invnr': np.string_,\n",
    "'inbdt': np.string_,\n",
    "'use_cust_id': np.string_,\n",
    "'pyn': np.string_,\n",
    "'room_cnt': np.string_,\n",
    "'do_nm': np.string_,\n",
    "'ct_nm': np.string_,\n",
    "'gu_nm': np.string_,\n",
    "'dng_nm': np.string_,\n",
    "'apts_in_date': np.string_,\n",
    "'bldg_tp': np.string_,\n",
    "'rtn_conf_dt': np.string_,\n",
    "'age': np.string_,\n",
    "'sex': np.string_,\n",
    "'cust_tpnm': np.string_}"
   ]
  },
  {
   "cell_type": "code",
   "execution_count": 4,
   "metadata": {},
   "outputs": [],
   "source": [
    "def generate_graph(data, s_date, e_date, path):\n",
    "    target_data = data[data['dev_dt'].between(s_date, e_date)]\n",
    "    if not os.path.exists(path + data['dev_id'].unique()[0]):\n",
    "        os.makedirs(path + data['dev_id'].unique()[0])\n",
    "        \n",
    "    ## graph configure\n",
    "    palette = sns.color_palette(\"muted\", n_colors=7)\n",
    "    sns.set_palette(palette)\n",
    "    kws = dict(s=10, linewidth=.5, edgecolor=\"w\")    # for scatter plot\n",
    "    plt.style.use('seaborn-darkgrid')\n",
    "    fig = plt.figure(figsize=(30,10))\n",
    "    area01 = plt.subplot2grid((3,4), (0,0), rowspan = 1, colspan = 4)\n",
    "    if target_data['mode_stng'].nunique() == 1:\n",
    "        sns.scatterplot(x=\"dev_dt\", y=\"pm10\", data=target_data, legend='full',**kws)\n",
    "    else:\n",
    "        sns.scatterplot(x=\"dev_dt\", y=\"pm10\", hue=\"mode_stng\", data=target_data, legend='full',**kws)\n",
    "    area01.xaxis.label.set_visible(False)\n",
    "    plt.xlim((s_date, e_date))\n",
    "    area02 = plt.subplot2grid((3,4), (1,0), rowspan = 1, colspan = 4)\n",
    "    if target_data['mode_stng'].nunique() == 1:\n",
    "        sns.scatterplot(x=\"dev_dt\", y=\"co2\", data=target_data, legend='full',**kws)\n",
    "    else:\n",
    "        sns.scatterplot(x=\"dev_dt\", y=\"co2\", hue=\"mode_stng\", data=target_data, legend='full',**kws)\n",
    "    area02.xaxis.label.set_visible(False)\n",
    "    plt.xlim((s_date, e_date))\n",
    "    area03= plt.subplot2grid((3,4), (2,0), rowspan = 1, colspan = 2)\n",
    "    sns.distplot(target_data[target_data['pm10'].notnull()]['pm10'], hist = False, kde = True, kde_kws = {'shade': True, 'linewidth': 3})\n",
    "    area04= plt.subplot2grid((3,4), (2,2), rowspan = 4, colspan = 2)\n",
    "    sns.boxplot(y='pm10', data=target_data, notch=True)\n",
    "    plt.tight_layout()\n",
    "    fig.savefig(path + data['dev_id'].unique()[0] + '/' + s_date.strftime('%Y%m%d') +'.png')\n",
    "    plt.close('all')"
   ]
  },
  {
   "cell_type": "code",
   "execution_count": 5,
   "metadata": {},
   "outputs": [
    {
     "name": "stderr",
     "output_type": "stream",
     "text": [
      "<string>:2: DtypeWarning: Columns (2,3,4,5,6,7,8,9,10,11,12,13,14,15,16,19,20,21,22,29,30) have mixed types. Specify dtype option on import or set low_memory=False.\n"
     ]
    },
    {
     "name": "stdout",
     "output_type": "stream",
     "text": [
      "CPU times: user 6min 34s, sys: 31.2 s, total: 7min 5s\n",
      "Wall time: 7min 5s\n"
     ]
    }
   ],
   "source": [
    "%%time\n",
    "check_data = pd.read_csv(filepath + '20181106_all_device_may_1_mnth/' + 'captain_iaq_meta_201805.csv', parse_dates=['dev_dt', 'apts_in_date', 'dt'])"
   ]
  },
  {
   "cell_type": "code",
   "execution_count": 6,
   "metadata": {},
   "outputs": [],
   "source": [
    "check_data = check_data[check_data['dev_dt'] != 'dev_dt']"
   ]
  },
  {
   "cell_type": "code",
   "execution_count": 7,
   "metadata": {},
   "outputs": [
    {
     "name": "stdout",
     "output_type": "stream",
     "text": [
      "CPU times: user 3min 17s, sys: 45.9 s, total: 4min 2s\n",
      "Wall time: 4min 2s\n"
     ]
    }
   ],
   "source": [
    "%%time\n",
    "check_data['dev_dt'] = pd.to_datetime(check_data['dev_dt'], format='%Y-%m-%d %H:%M:%S.%f')\n",
    "check_data['dt'] = pd.to_datetime(check_data['dt'], format='%Y-%m-%d %H:%M:%S.%f')\n",
    "check_data['pm25'] = check_data['pm25'].astype(np.number)\n",
    "check_data['pm10'] = check_data['pm10'].astype(np.number)\n",
    "check_data['voc_ref'] = check_data['voc_ref'].astype(np.number)\n",
    "check_data['voc_now'] = check_data['voc_now'].astype(np.number)\n",
    "check_data['humi'] = check_data['humi'].astype(np.number)\n",
    "check_data['temp'] = check_data['temp'].astype(np.number)\n",
    "check_data['lux'] = check_data['lux'].astype(np.number)\n",
    "check_data['co2'] = check_data['co2'].astype(np.number)\n",
    "check_data['pm10_idx'] = check_data['pm10_idx'].astype(np.number)\n",
    "check_data['pm25_idx'] = check_data['pm25_idx'].astype(np.number)\n",
    "check_data['vocs_idx'] = check_data['vocs_idx'].astype(np.number)\n",
    "check_data['co2_idx'] = check_data['co2_idx'].astype(np.number)\n",
    "check_data['iaq_idx'] = check_data['iaq_idx'].astype(np.number)\n",
    "check_data['unpl_idx'] = check_data['unpl_idx'].astype(np.number)\n",
    "check_data['polt_idx'] = check_data['polt_idx'].astype(np.number)\n",
    "check_data['room_cnt'] = check_data['room_cnt'].astype(np.number)"
   ]
  },
  {
   "cell_type": "code",
   "execution_count": 8,
   "metadata": {},
   "outputs": [
    {
     "name": "stdout",
     "output_type": "stream",
     "text": [
      "CPU times: user 13 s, sys: 5.13 s, total: 18.1 s\n",
      "Wall time: 18.1 s\n"
     ]
    }
   ],
   "source": [
    "%%time\n",
    "check_data.reset_index(inplace=True)\n",
    "check_data.drop('index', axis=1)"
   ]
  },
  {
   "cell_type": "code",
   "execution_count": 9,
   "metadata": {},
   "outputs": [],
   "source": [
    "pm10_bins = [0, 30, 80, 150, 50000]\n",
    "vocs_bins = [0, 55, 78, 87, 100]\n",
    "co2_bins  = [0, 600, 1000, 3000, 5000]\n",
    "labels = [1, 2, 3, 4]\n",
    "\n",
    "## temp\n",
    "# 21.5 <= x < 24.5\n",
    "grade_temp = lambda x: 4 if ((17 <= x < 18.5) | (27.5 <= x < 29)) else 3 if ((18.5 <= x < 20) | (26 <= x < 27.5)) else 2 if ((20 <= x < 21.5) | (24.5 <= x < 26)) else 1\n",
    "## humi\n",
    "# (42. <= x < 57.5) \n",
    "grade_humi = lambda x: 4 if ((0 <= x < 27.5) | (72. <= x < 100)) else 3 if ((27. <= x < 35) | (65 <= x < 72.5)) else 2 if ((35 <= x < 42.5) | (57. <= x < 65)) else 1"
   ]
  },
  {
   "cell_type": "code",
   "execution_count": 10,
   "metadata": {},
   "outputs": [
    {
     "name": "stdout",
     "output_type": "stream",
     "text": [
      "CPU times: user 56min 44s, sys: 12 ms, total: 56min 44s\n",
      "Wall time: 56min 43s\n"
     ]
    }
   ],
   "source": [
    "%%time\n",
    "check_data['pm10_grade'] = pd.cut(check_data['pm10'], bins=pm10_bins, labels=labels, include_lowest=True)\n",
    "check_data['vocs_grade'] = pd.cut(check_data['vocs_idx'], bins=vocs_bins, labels=labels, include_lowest=True)\n",
    "check_data['co2_grade'] = pd.cut(check_data['co2'], bins=co2_bins, labels=labels, include_lowest=True)\n",
    "check_data['temp_grade'] = [grade_temp(check_data.loc[n, 'temp']) for n in range(len(check_data))]\n",
    "check_data['humi_grade'] = [grade_temp(check_data.loc[n, 'humi']) for n in range(len(check_data))]"
   ]
  },
  {
   "cell_type": "code",
   "execution_count": null,
   "metadata": {},
   "outputs": [],
   "source": [
    "check_data.drop('index', axis=1, inplace=True)"
   ]
  },
  {
   "cell_type": "code",
   "execution_count": 186,
   "metadata": {},
   "outputs": [
    {
     "name": "stdout",
     "output_type": "stream",
     "text": [
      "CPU times: user 29min 8s, sys: 17.1 s, total: 29min 25s\n",
      "Wall time: 29min 25s\n"
     ]
    }
   ],
   "source": [
    "%%time\n",
    "check_data.to_csv(filepath + 'distribution_5_elements.csv', index=False)"
   ]
  },
  {
   "cell_type": "code",
   "execution_count": 15,
   "metadata": {},
   "outputs": [
    {
     "data": {
      "text/html": [
       "<div>\n",
       "<style scoped>\n",
       "    .dataframe tbody tr th:only-of-type {\n",
       "        vertical-align: middle;\n",
       "    }\n",
       "\n",
       "    .dataframe tbody tr th {\n",
       "        vertical-align: top;\n",
       "    }\n",
       "\n",
       "    .dataframe thead th {\n",
       "        text-align: right;\n",
       "    }\n",
       "</style>\n",
       "<table border=\"1\" class=\"dataframe\">\n",
       "  <thead>\n",
       "    <tr style=\"text-align: right;\">\n",
       "      <th></th>\n",
       "      <th>dev_id</th>\n",
       "      <th>dev_dt</th>\n",
       "      <th>pm25</th>\n",
       "      <th>pm10</th>\n",
       "      <th>voc_ref</th>\n",
       "      <th>voc_now</th>\n",
       "      <th>humi</th>\n",
       "      <th>temp</th>\n",
       "      <th>lux</th>\n",
       "      <th>co2</th>\n",
       "      <th>...</th>\n",
       "      <th>bldg_tp</th>\n",
       "      <th>rtn_conf_dt</th>\n",
       "      <th>age</th>\n",
       "      <th>sex</th>\n",
       "      <th>cust_tpnm</th>\n",
       "      <th>pm10_grade</th>\n",
       "      <th>vocs_grade</th>\n",
       "      <th>co2_grade</th>\n",
       "      <th>temp_grade</th>\n",
       "      <th>humi_grade</th>\n",
       "    </tr>\n",
       "  </thead>\n",
       "  <tbody>\n",
       "    <tr>\n",
       "      <th>0</th>\n",
       "      <td>19202D8F1671500524</td>\n",
       "      <td>2018-05-01 21:29:21.947</td>\n",
       "      <td>9.0</td>\n",
       "      <td>32.0</td>\n",
       "      <td>0.67</td>\n",
       "      <td>0.68</td>\n",
       "      <td>63.0</td>\n",
       "      <td>27.21</td>\n",
       "      <td>535.0</td>\n",
       "      <td>985.0</td>\n",
       "      <td>...</td>\n",
       "      <td>NaN</td>\n",
       "      <td>NaN</td>\n",
       "      <td>45</td>\n",
       "      <td>M</td>\n",
       "      <td>개인</td>\n",
       "      <td>2</td>\n",
       "      <td>1</td>\n",
       "      <td>2</td>\n",
       "      <td>3</td>\n",
       "      <td>1</td>\n",
       "    </tr>\n",
       "    <tr>\n",
       "      <th>1</th>\n",
       "      <td>19202ER01672200372</td>\n",
       "      <td>2018-05-01 23:33:14.841</td>\n",
       "      <td>7.0</td>\n",
       "      <td>24.0</td>\n",
       "      <td>0.83</td>\n",
       "      <td>0.84</td>\n",
       "      <td>52.0</td>\n",
       "      <td>28.29</td>\n",
       "      <td>893.0</td>\n",
       "      <td>1267.0</td>\n",
       "      <td>...</td>\n",
       "      <td>아파트</td>\n",
       "      <td>NaN</td>\n",
       "      <td>39</td>\n",
       "      <td>F</td>\n",
       "      <td>개인</td>\n",
       "      <td>1</td>\n",
       "      <td>1</td>\n",
       "      <td>3</td>\n",
       "      <td>4</td>\n",
       "      <td>1</td>\n",
       "    </tr>\n",
       "    <tr>\n",
       "      <th>2</th>\n",
       "      <td>19202D8F1642200099</td>\n",
       "      <td>2018-05-01 11:45:24.111</td>\n",
       "      <td>17.0</td>\n",
       "      <td>45.0</td>\n",
       "      <td>0.88</td>\n",
       "      <td>0.89</td>\n",
       "      <td>71.0</td>\n",
       "      <td>26.99</td>\n",
       "      <td>899.0</td>\n",
       "      <td>3351.0</td>\n",
       "      <td>...</td>\n",
       "      <td>다세대주택</td>\n",
       "      <td>2.01808e+07</td>\n",
       "      <td>39</td>\n",
       "      <td>F</td>\n",
       "      <td>개인</td>\n",
       "      <td>2</td>\n",
       "      <td>1</td>\n",
       "      <td>4</td>\n",
       "      <td>3</td>\n",
       "      <td>1</td>\n",
       "    </tr>\n",
       "    <tr>\n",
       "      <th>3</th>\n",
       "      <td>19202D8F1670700104</td>\n",
       "      <td>2018-05-01 10:48:28.711</td>\n",
       "      <td>11.0</td>\n",
       "      <td>39.0</td>\n",
       "      <td>0.65</td>\n",
       "      <td>0.64</td>\n",
       "      <td>55.0</td>\n",
       "      <td>25.47</td>\n",
       "      <td>894.0</td>\n",
       "      <td>950.0</td>\n",
       "      <td>...</td>\n",
       "      <td>아파트</td>\n",
       "      <td>NaN</td>\n",
       "      <td>57</td>\n",
       "      <td>F</td>\n",
       "      <td>개인</td>\n",
       "      <td>2</td>\n",
       "      <td>1</td>\n",
       "      <td>2</td>\n",
       "      <td>2</td>\n",
       "      <td>1</td>\n",
       "    </tr>\n",
       "    <tr>\n",
       "      <th>4</th>\n",
       "      <td>16302D8F15B0900003</td>\n",
       "      <td>2018-05-01 08:59:56.167</td>\n",
       "      <td>0.0</td>\n",
       "      <td>1.0</td>\n",
       "      <td>0.53</td>\n",
       "      <td>0.55</td>\n",
       "      <td>51.0</td>\n",
       "      <td>26.12</td>\n",
       "      <td>898.0</td>\n",
       "      <td>1301.0</td>\n",
       "      <td>...</td>\n",
       "      <td>아파트</td>\n",
       "      <td>NaN</td>\n",
       "      <td>45</td>\n",
       "      <td>F</td>\n",
       "      <td>개인</td>\n",
       "      <td>1</td>\n",
       "      <td>1</td>\n",
       "      <td>3</td>\n",
       "      <td>3</td>\n",
       "      <td>1</td>\n",
       "    </tr>\n",
       "  </tbody>\n",
       "</table>\n",
       "<p>5 rows × 38 columns</p>\n",
       "</div>"
      ],
      "text/plain": [
       "               dev_id                  dev_dt  pm25  pm10  voc_ref  voc_now  \\\n",
       "0  19202D8F1671500524 2018-05-01 21:29:21.947   9.0  32.0     0.67     0.68   \n",
       "1  19202ER01672200372 2018-05-01 23:33:14.841   7.0  24.0     0.83     0.84   \n",
       "2  19202D8F1642200099 2018-05-01 11:45:24.111  17.0  45.0     0.88     0.89   \n",
       "3  19202D8F1670700104 2018-05-01 10:48:28.711  11.0  39.0     0.65     0.64   \n",
       "4  16302D8F15B0900003 2018-05-01 08:59:56.167   0.0   1.0     0.53     0.55   \n",
       "\n",
       "   humi   temp    lux     co2    ...      bldg_tp  rtn_conf_dt  age  sex  \\\n",
       "0  63.0  27.21  535.0   985.0    ...          NaN          NaN   45    M   \n",
       "1  52.0  28.29  893.0  1267.0    ...          아파트          NaN   39    F   \n",
       "2  71.0  26.99  899.0  3351.0    ...        다세대주택  2.01808e+07   39    F   \n",
       "3  55.0  25.47  894.0   950.0    ...          아파트          NaN   57    F   \n",
       "4  51.0  26.12  898.0  1301.0    ...          아파트          NaN   45    F   \n",
       "\n",
       "   cust_tpnm  pm10_grade  vocs_grade co2_grade temp_grade humi_grade  \n",
       "0         개인           2           1         2          3          1  \n",
       "1         개인           1           1         3          4          1  \n",
       "2         개인           2           1         4          3          1  \n",
       "3         개인           2           1         2          2          1  \n",
       "4         개인           1           1         3          3          1  \n",
       "\n",
       "[5 rows x 38 columns]"
      ]
     },
     "execution_count": 15,
     "metadata": {},
     "output_type": "execute_result"
    }
   ],
   "source": [
    "check_data.head()"
   ]
  },
  {
   "cell_type": "code",
   "execution_count": 17,
   "metadata": {},
   "outputs": [
    {
     "name": "stdout",
     "output_type": "stream",
     "text": [
      "CPU times: user 1min 6s, sys: 4 ms, total: 1min 6s\n",
      "Wall time: 1min 6s\n"
     ]
    }
   ],
   "source": [
    "%%time\n",
    "pm10_result = check_data.groupby('pm10_grade')['pm10_grade'].value_counts()\n",
    "vocs_result = check_data.groupby('vocs_grade')['vocs_grade'].value_counts()\n",
    "co2_result = check_data.groupby('co2_grade')['co2_grade'].value_counts()\n",
    "temp_result = check_data.groupby('temp_grade')['temp_grade'].value_counts()\n",
    "humi_result = check_data.groupby('humi_grade')['humi_grade'].value_counts()"
   ]
  },
  {
   "cell_type": "code",
   "execution_count": 109,
   "metadata": {
    "collapsed": true
   },
   "outputs": [
    {
     "ename": "IndexError",
     "evalue": "Too many levels: Index has only 1 level, not 2",
     "output_type": "error",
     "traceback": [
      "\u001b[0;31m---------------------------------------------------------------------------\u001b[0m",
      "\u001b[0;31mIndexError\u001b[0m                                Traceback (most recent call last)",
      "\u001b[0;32m<ipython-input-109-7b7371fb562c>\u001b[0m in \u001b[0;36m<module>\u001b[0;34m\u001b[0m\n\u001b[0;32m----> 1\u001b[0;31m \u001b[0mpm10_result\u001b[0m\u001b[0;34m.\u001b[0m\u001b[0mreset_index\u001b[0m\u001b[0;34m(\u001b[0m\u001b[0mlevel\u001b[0m\u001b[0;34m=\u001b[0m\u001b[0;36m1\u001b[0m\u001b[0;34m,\u001b[0m \u001b[0mdrop\u001b[0m\u001b[0;34m=\u001b[0m\u001b[0;32mTrue\u001b[0m\u001b[0;34m,\u001b[0m \u001b[0minplace\u001b[0m\u001b[0;34m=\u001b[0m\u001b[0;32mTrue\u001b[0m\u001b[0;34m)\u001b[0m\u001b[0;34m\u001b[0m\u001b[0;34m\u001b[0m\u001b[0m\n\u001b[0m\u001b[1;32m      2\u001b[0m \u001b[0mvocs__result\u001b[0m\u001b[0;34m.\u001b[0m\u001b[0mreset_index\u001b[0m\u001b[0;34m(\u001b[0m\u001b[0mlevel\u001b[0m\u001b[0;34m=\u001b[0m\u001b[0;36m1\u001b[0m\u001b[0;34m,\u001b[0m \u001b[0mdrop\u001b[0m\u001b[0;34m=\u001b[0m\u001b[0;32mTrue\u001b[0m\u001b[0;34m,\u001b[0m \u001b[0minplace\u001b[0m\u001b[0;34m=\u001b[0m\u001b[0;32mTrue\u001b[0m\u001b[0;34m)\u001b[0m\u001b[0;34m\u001b[0m\u001b[0;34m\u001b[0m\u001b[0m\n\u001b[1;32m      3\u001b[0m \u001b[0mco2_result\u001b[0m\u001b[0;34m.\u001b[0m\u001b[0mreset_index\u001b[0m\u001b[0;34m(\u001b[0m\u001b[0mlevel\u001b[0m\u001b[0;34m=\u001b[0m\u001b[0;36m1\u001b[0m\u001b[0;34m,\u001b[0m \u001b[0mdrop\u001b[0m\u001b[0;34m=\u001b[0m\u001b[0;32mTrue\u001b[0m\u001b[0;34m,\u001b[0m \u001b[0minplace\u001b[0m\u001b[0;34m=\u001b[0m\u001b[0;32mTrue\u001b[0m\u001b[0;34m)\u001b[0m\u001b[0;34m\u001b[0m\u001b[0;34m\u001b[0m\u001b[0m\n",
      "\u001b[0;32m~/.virtualenvs/coway_cp36/lib/python3.6/site-packages/pandas/core/series.py\u001b[0m in \u001b[0;36mreset_index\u001b[0;34m(self, level, drop, name, inplace)\u001b[0m\n\u001b[1;32m   1200\u001b[0m                 \u001b[0;32mif\u001b[0m \u001b[0;32mnot\u001b[0m \u001b[0misinstance\u001b[0m\u001b[0;34m(\u001b[0m\u001b[0mlevel\u001b[0m\u001b[0;34m,\u001b[0m \u001b[0;34m(\u001b[0m\u001b[0mtuple\u001b[0m\u001b[0;34m,\u001b[0m \u001b[0mlist\u001b[0m\u001b[0;34m)\u001b[0m\u001b[0;34m)\u001b[0m\u001b[0;34m:\u001b[0m\u001b[0;34m\u001b[0m\u001b[0;34m\u001b[0m\u001b[0m\n\u001b[1;32m   1201\u001b[0m                     \u001b[0mlevel\u001b[0m \u001b[0;34m=\u001b[0m \u001b[0;34m[\u001b[0m\u001b[0mlevel\u001b[0m\u001b[0;34m]\u001b[0m\u001b[0;34m\u001b[0m\u001b[0;34m\u001b[0m\u001b[0m\n\u001b[0;32m-> 1202\u001b[0;31m                 \u001b[0mlevel\u001b[0m \u001b[0;34m=\u001b[0m \u001b[0;34m[\u001b[0m\u001b[0mself\u001b[0m\u001b[0;34m.\u001b[0m\u001b[0mindex\u001b[0m\u001b[0;34m.\u001b[0m\u001b[0m_get_level_number\u001b[0m\u001b[0;34m(\u001b[0m\u001b[0mlev\u001b[0m\u001b[0;34m)\u001b[0m \u001b[0;32mfor\u001b[0m \u001b[0mlev\u001b[0m \u001b[0;32min\u001b[0m \u001b[0mlevel\u001b[0m\u001b[0;34m]\u001b[0m\u001b[0;34m\u001b[0m\u001b[0;34m\u001b[0m\u001b[0m\n\u001b[0m\u001b[1;32m   1203\u001b[0m                 \u001b[0;32mif\u001b[0m \u001b[0misinstance\u001b[0m\u001b[0;34m(\u001b[0m\u001b[0mself\u001b[0m\u001b[0;34m.\u001b[0m\u001b[0mindex\u001b[0m\u001b[0;34m,\u001b[0m \u001b[0mMultiIndex\u001b[0m\u001b[0;34m)\u001b[0m\u001b[0;34m:\u001b[0m\u001b[0;34m\u001b[0m\u001b[0;34m\u001b[0m\u001b[0m\n\u001b[1;32m   1204\u001b[0m                     \u001b[0;32mif\u001b[0m \u001b[0mlen\u001b[0m\u001b[0;34m(\u001b[0m\u001b[0mlevel\u001b[0m\u001b[0;34m)\u001b[0m \u001b[0;34m<\u001b[0m \u001b[0mself\u001b[0m\u001b[0;34m.\u001b[0m\u001b[0mindex\u001b[0m\u001b[0;34m.\u001b[0m\u001b[0mnlevels\u001b[0m\u001b[0;34m:\u001b[0m\u001b[0;34m\u001b[0m\u001b[0;34m\u001b[0m\u001b[0m\n",
      "\u001b[0;32m~/.virtualenvs/coway_cp36/lib/python3.6/site-packages/pandas/core/series.py\u001b[0m in \u001b[0;36m<listcomp>\u001b[0;34m(.0)\u001b[0m\n\u001b[1;32m   1200\u001b[0m                 \u001b[0;32mif\u001b[0m \u001b[0;32mnot\u001b[0m \u001b[0misinstance\u001b[0m\u001b[0;34m(\u001b[0m\u001b[0mlevel\u001b[0m\u001b[0;34m,\u001b[0m \u001b[0;34m(\u001b[0m\u001b[0mtuple\u001b[0m\u001b[0;34m,\u001b[0m \u001b[0mlist\u001b[0m\u001b[0;34m)\u001b[0m\u001b[0;34m)\u001b[0m\u001b[0;34m:\u001b[0m\u001b[0;34m\u001b[0m\u001b[0;34m\u001b[0m\u001b[0m\n\u001b[1;32m   1201\u001b[0m                     \u001b[0mlevel\u001b[0m \u001b[0;34m=\u001b[0m \u001b[0;34m[\u001b[0m\u001b[0mlevel\u001b[0m\u001b[0;34m]\u001b[0m\u001b[0;34m\u001b[0m\u001b[0;34m\u001b[0m\u001b[0m\n\u001b[0;32m-> 1202\u001b[0;31m                 \u001b[0mlevel\u001b[0m \u001b[0;34m=\u001b[0m \u001b[0;34m[\u001b[0m\u001b[0mself\u001b[0m\u001b[0;34m.\u001b[0m\u001b[0mindex\u001b[0m\u001b[0;34m.\u001b[0m\u001b[0m_get_level_number\u001b[0m\u001b[0;34m(\u001b[0m\u001b[0mlev\u001b[0m\u001b[0;34m)\u001b[0m \u001b[0;32mfor\u001b[0m \u001b[0mlev\u001b[0m \u001b[0;32min\u001b[0m \u001b[0mlevel\u001b[0m\u001b[0;34m]\u001b[0m\u001b[0;34m\u001b[0m\u001b[0;34m\u001b[0m\u001b[0m\n\u001b[0m\u001b[1;32m   1203\u001b[0m                 \u001b[0;32mif\u001b[0m \u001b[0misinstance\u001b[0m\u001b[0;34m(\u001b[0m\u001b[0mself\u001b[0m\u001b[0;34m.\u001b[0m\u001b[0mindex\u001b[0m\u001b[0;34m,\u001b[0m \u001b[0mMultiIndex\u001b[0m\u001b[0;34m)\u001b[0m\u001b[0;34m:\u001b[0m\u001b[0;34m\u001b[0m\u001b[0;34m\u001b[0m\u001b[0m\n\u001b[1;32m   1204\u001b[0m                     \u001b[0;32mif\u001b[0m \u001b[0mlen\u001b[0m\u001b[0;34m(\u001b[0m\u001b[0mlevel\u001b[0m\u001b[0;34m)\u001b[0m \u001b[0;34m<\u001b[0m \u001b[0mself\u001b[0m\u001b[0;34m.\u001b[0m\u001b[0mindex\u001b[0m\u001b[0;34m.\u001b[0m\u001b[0mnlevels\u001b[0m\u001b[0;34m:\u001b[0m\u001b[0;34m\u001b[0m\u001b[0;34m\u001b[0m\u001b[0m\n",
      "\u001b[0;32m~/.virtualenvs/coway_cp36/lib/python3.6/site-packages/pandas/core/indexes/base.py\u001b[0m in \u001b[0;36m_get_level_number\u001b[0;34m(self, level)\u001b[0m\n\u001b[1;32m   1959\u001b[0m \u001b[0;34m\u001b[0m\u001b[0m\n\u001b[1;32m   1960\u001b[0m     \u001b[0;32mdef\u001b[0m \u001b[0m_get_level_number\u001b[0m\u001b[0;34m(\u001b[0m\u001b[0mself\u001b[0m\u001b[0;34m,\u001b[0m \u001b[0mlevel\u001b[0m\u001b[0;34m)\u001b[0m\u001b[0;34m:\u001b[0m\u001b[0;34m\u001b[0m\u001b[0;34m\u001b[0m\u001b[0m\n\u001b[0;32m-> 1961\u001b[0;31m         \u001b[0mself\u001b[0m\u001b[0;34m.\u001b[0m\u001b[0m_validate_index_level\u001b[0m\u001b[0;34m(\u001b[0m\u001b[0mlevel\u001b[0m\u001b[0;34m)\u001b[0m\u001b[0;34m\u001b[0m\u001b[0;34m\u001b[0m\u001b[0m\n\u001b[0m\u001b[1;32m   1962\u001b[0m         \u001b[0;32mreturn\u001b[0m \u001b[0;36m0\u001b[0m\u001b[0;34m\u001b[0m\u001b[0;34m\u001b[0m\u001b[0m\n\u001b[1;32m   1963\u001b[0m \u001b[0;34m\u001b[0m\u001b[0m\n",
      "\u001b[0;32m~/.virtualenvs/coway_cp36/lib/python3.6/site-packages/pandas/core/indexes/base.py\u001b[0m in \u001b[0;36m_validate_index_level\u001b[0;34m(self, level)\u001b[0m\n\u001b[1;32m   1953\u001b[0m                 raise IndexError(\"Too many levels:\"\n\u001b[1;32m   1954\u001b[0m                                  \u001b[0;34m\" Index has only 1 level, not %d\"\u001b[0m \u001b[0;34m%\u001b[0m\u001b[0;34m\u001b[0m\u001b[0;34m\u001b[0m\u001b[0m\n\u001b[0;32m-> 1955\u001b[0;31m                                  (level + 1))\n\u001b[0m\u001b[1;32m   1956\u001b[0m         \u001b[0;32melif\u001b[0m \u001b[0mlevel\u001b[0m \u001b[0;34m!=\u001b[0m \u001b[0mself\u001b[0m\u001b[0;34m.\u001b[0m\u001b[0mname\u001b[0m\u001b[0;34m:\u001b[0m\u001b[0;34m\u001b[0m\u001b[0;34m\u001b[0m\u001b[0m\n\u001b[1;32m   1957\u001b[0m             raise KeyError('Level %s must be same as name (%s)' %\n",
      "\u001b[0;31mIndexError\u001b[0m: Too many levels: Index has only 1 level, not 2"
     ]
    }
   ],
   "source": [
    "%%time\n",
    "pm10_result.reset_index(level=1, drop=True, inplace=True)\n",
    "vocs_result.reset_index(level=1, drop=True, inplace=True)\n",
    "co2_result.reset_index(level=1, drop=True, inplace=True)\n",
    "temp_result.reset_index(level=1, drop=True, inplace=True)\n",
    "humi_result.reset_index(level=1, drop=True, inplace=True)"
   ]
  },
  {
   "cell_type": "code",
   "execution_count": 178,
   "metadata": {},
   "outputs": [],
   "source": [
    "result = pd.concat([pd.concat([pd.DataFrame([pm10_result[i+1]], columns=['pm10_result']) for i in range(len(pm10_result))], ignore_index=True),\n",
    "pd.concat([pd.DataFrame([vocs_result[i+1]], columns=['vocs_result']) for i in range(len(vocs_result))], ignore_index=True),\n",
    "pd.concat([pd.DataFrame([co2_result[i+1]], columns=['co2_result'])  for i in range(len(co2_result ))], ignore_index=True),\n",
    "pd.concat([pd.DataFrame([temp_result[i+1]], columns=['temp_result']) for i in range(len(temp_result))], ignore_index=True),\n",
    "pd.concat([pd.DataFrame([humi_result[i+1]], columns=['humi_result']) for i in range(len(humi_result))], ignore_index=True)], axis=1)"
   ]
  },
  {
   "cell_type": "code",
   "execution_count": 179,
   "metadata": {},
   "outputs": [
    {
     "data": {
      "text/html": [
       "<div>\n",
       "<style scoped>\n",
       "    .dataframe tbody tr th:only-of-type {\n",
       "        vertical-align: middle;\n",
       "    }\n",
       "\n",
       "    .dataframe tbody tr th {\n",
       "        vertical-align: top;\n",
       "    }\n",
       "\n",
       "    .dataframe thead th {\n",
       "        text-align: right;\n",
       "    }\n",
       "</style>\n",
       "<table border=\"1\" class=\"dataframe\">\n",
       "  <thead>\n",
       "    <tr style=\"text-align: right;\">\n",
       "      <th></th>\n",
       "      <th>pm10_result</th>\n",
       "      <th>vocs_result</th>\n",
       "      <th>co2_result</th>\n",
       "      <th>temp_result</th>\n",
       "      <th>humi_result</th>\n",
       "    </tr>\n",
       "  </thead>\n",
       "  <tbody>\n",
       "    <tr>\n",
       "      <th>0</th>\n",
       "      <td>52633877</td>\n",
       "      <td>67425827</td>\n",
       "      <td>29412071</td>\n",
       "      <td>18898426</td>\n",
       "      <td>67356610</td>\n",
       "    </tr>\n",
       "    <tr>\n",
       "      <th>1</th>\n",
       "      <td>11437292</td>\n",
       "      <td>10232</td>\n",
       "      <td>24477429</td>\n",
       "      <td>25686101</td>\n",
       "      <td>21716</td>\n",
       "    </tr>\n",
       "    <tr>\n",
       "      <th>2</th>\n",
       "      <td>2467960</td>\n",
       "      <td>3131</td>\n",
       "      <td>13404020</td>\n",
       "      <td>18082882</td>\n",
       "      <td>70877</td>\n",
       "    </tr>\n",
       "    <tr>\n",
       "      <th>3</th>\n",
       "      <td>974537</td>\n",
       "      <td>74476</td>\n",
       "      <td>220146</td>\n",
       "      <td>4846257</td>\n",
       "      <td>64463</td>\n",
       "    </tr>\n",
       "  </tbody>\n",
       "</table>\n",
       "</div>"
      ],
      "text/plain": [
       "   pm10_result  vocs_result  co2_result  temp_result  humi_result\n",
       "0     52633877     67425827    29412071     18898426     67356610\n",
       "1     11437292        10232    24477429     25686101        21716\n",
       "2      2467960         3131    13404020     18082882        70877\n",
       "3       974537        74476      220146      4846257        64463"
      ]
     },
     "execution_count": 179,
     "metadata": {},
     "output_type": "execute_result"
    }
   ],
   "source": [
    "result"
   ]
  },
  {
   "cell_type": "code",
   "execution_count": 180,
   "metadata": {},
   "outputs": [],
   "source": [
    "result_per = result/len(check_data) * 100"
   ]
  },
  {
   "cell_type": "code",
   "execution_count": 181,
   "metadata": {},
   "outputs": [
    {
     "data": {
      "text/html": [
       "<div>\n",
       "<style scoped>\n",
       "    .dataframe tbody tr th:only-of-type {\n",
       "        vertical-align: middle;\n",
       "    }\n",
       "\n",
       "    .dataframe tbody tr th {\n",
       "        vertical-align: top;\n",
       "    }\n",
       "\n",
       "    .dataframe thead th {\n",
       "        text-align: right;\n",
       "    }\n",
       "</style>\n",
       "<table border=\"1\" class=\"dataframe\">\n",
       "  <thead>\n",
       "    <tr style=\"text-align: right;\">\n",
       "      <th></th>\n",
       "      <th>pm10_result</th>\n",
       "      <th>vocs_result</th>\n",
       "      <th>co2_result</th>\n",
       "      <th>temp_result</th>\n",
       "      <th>humi_result</th>\n",
       "    </tr>\n",
       "  </thead>\n",
       "  <tbody>\n",
       "    <tr>\n",
       "      <th>0</th>\n",
       "      <td>77.960330</td>\n",
       "      <td>99.869894</td>\n",
       "      <td>43.564618</td>\n",
       "      <td>27.992001</td>\n",
       "      <td>99.767372</td>\n",
       "    </tr>\n",
       "    <tr>\n",
       "      <th>1</th>\n",
       "      <td>16.940706</td>\n",
       "      <td>0.015155</td>\n",
       "      <td>36.255518</td>\n",
       "      <td>38.045780</td>\n",
       "      <td>0.032165</td>\n",
       "    </tr>\n",
       "    <tr>\n",
       "      <th>2</th>\n",
       "      <td>3.655497</td>\n",
       "      <td>0.004638</td>\n",
       "      <td>19.853788</td>\n",
       "      <td>26.784032</td>\n",
       "      <td>0.104982</td>\n",
       "    </tr>\n",
       "    <tr>\n",
       "      <th>3</th>\n",
       "      <td>1.443466</td>\n",
       "      <td>0.110312</td>\n",
       "      <td>0.326076</td>\n",
       "      <td>7.178187</td>\n",
       "      <td>0.095481</td>\n",
       "    </tr>\n",
       "  </tbody>\n",
       "</table>\n",
       "</div>"
      ],
      "text/plain": [
       "   pm10_result  vocs_result  co2_result  temp_result  humi_result\n",
       "0    77.960330    99.869894   43.564618    27.992001    99.767372\n",
       "1    16.940706     0.015155   36.255518    38.045780     0.032165\n",
       "2     3.655497     0.004638   19.853788    26.784032     0.104982\n",
       "3     1.443466     0.110312    0.326076     7.178187     0.095481"
      ]
     },
     "execution_count": 181,
     "metadata": {},
     "output_type": "execute_result"
    }
   ],
   "source": [
    "result_per"
   ]
  },
  {
   "cell_type": "code",
   "execution_count": null,
   "metadata": {},
   "outputs": [],
   "source": [
    "%%time\n",
    "check_data['pm10_grade'] = check_data['pm10_grade'].astype('int')\n",
    "check_data['vocs_grade'] = check_data['vocs_grade'].astype('int')\n",
    "check_data['co2_grade'] = check_data['co2_grade'].astype('int')"
   ]
  },
  {
   "cell_type": "code",
   "execution_count": 183,
   "metadata": {},
   "outputs": [
    {
     "name": "stdout",
     "output_type": "stream",
     "text": [
      "CPU times: user 1.78 s, sys: 8 ms, total: 1.79 s\n",
      "Wall time: 1.79 s\n"
     ]
    },
    {
     "data": {
      "image/png": "[encoded data removed]",
      "text/plain": [
       "<Figure size 2160x1440 with 2 Axes>"
      ]
     },
     "metadata": {},
     "output_type": "display_data"
    }
   ],
   "source": [
    "%%time\n",
    "## graph configure\n",
    "colors = ['#34495e','#2ecc71','#3498db','#FFFF33','#e74c3c','#a9a9a9']\n",
    "sns.set_palette(colors)\n",
    "palette = sns.color_palette()\n",
    "plt.style.use('seaborn-darkgrid')\n",
    "ncount = len(check_data)\n",
    "\n",
    "fig = plt.figure(figsize=(30,20))\n",
    "area01 = plt.subplot2grid((5,4), (0,0), rowspan = 1, colspan = 4)\n",
    "# Some random data\n",
    "ax = sns.countplot(x=\"pm10\", data=check_data, order=[1,2,3,4])\n",
    "plt.xlabel('Distribution of pm10_grade')\n",
    "ax2=ax.twinx()\n",
    "ax2.yaxis.tick_left()\n",
    "ax.yaxis.tick_right()\n",
    "ax.yaxis.set_label_position('right')\n",
    "ax2.yaxis.set_label_position('left')\n",
    "ax2.set_ylabel('Frequency [%]')\n",
    "\n",
    "for p in ax.patches:\n",
    "    x=p.get_bbox().get_points()[:,0]\n",
    "    y=p.get_bbox().get_points()[1,1]\n",
    "    ax.annotate('{:.1f}%'.format(100.*y/ncount), (x.mean(), y), ha='center', va='bottom') # set the alignment of the text\n",
    "\n",
    "# Use a LinearLocator to ensure the correct number of ticks\n",
    "ax.yaxis.set_major_locator(ticker.LinearLocator(11))\n",
    "\n",
    "# Fix the frequency range to 0-100\n",
    "ax2.set_ylim(0,100)\n",
    "ax.set_ylim(0,ncount)\n",
    "\n",
    "# And use a MultipleLocator to ensure a tick spacing of 10\n",
    "ax2.yaxis.set_major_locator(ticker.MultipleLocator(10))\n",
    "\n",
    "# Need to turn the grid on ax2 off, otherwise the gridlines end up on top of the bars\n",
    "ax2.grid(None)\n",
    "\n",
    "# plt.tight_layout()\n",
    "# fig.savefig(path + data['dev_id'].unique()[0] + '/' + s_date.strftime('%Y%m%d') +'.png')\n",
    "# plt.close('all')"
   ]
  },
  {
   "cell_type": "code",
   "execution_count": null,
   "metadata": {},
   "outputs": [],
   "source": []
  }
 ],
 "metadata": {
  "kernelspec": {
   "display_name": "coway_cp36",
   "language": "python",
   "name": "coway_cp36"
  },
  "language_info": {
   "codemirror_mode": {
    "name": "ipython",
    "version": 3
   },
   "file_extension": ".py",
   "mimetype": "text/x-python",
   "name": "python",
   "nbconvert_exporter": "python",
   "pygments_lexer": "ipython3",
   "version": "3.6.7"
  }
 },
 "nbformat": 4,
 "nbformat_minor": 2
}
