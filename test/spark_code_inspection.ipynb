{
 "cells": [
  {
   "cell_type": "markdown",
   "metadata": {},
   "source": [
    "# Spark source code inspection\n",
    "> based on apache zepplin\n"
   ]
  },
  {
   "cell_type": "markdown",
   "metadata": {},
   "source": [
    "## make the csv file from hdfs\n",
    "\n",
    "- POSCO PoC : 청정기 상 데이터 다운로드*\n",
    "```spark\n",
    "# /user/hdfs/parquet/모델명/iaq/일자지정폴더\n",
    "val df=spark.read.parquet(\"/user/hdfs/parquet/captain/iaq/20180501\")\n",
    ".filter(\"devicemodelid='COWAY_CAPTAIN_IN'\")\n",
    "df.coalesce(1).write.option(\"header\", \"true\").csv(\"/tmp/iaq_0501.csv\")\n",
    "```\n",
    "\n",
    "- select expression on spark\n",
    "```spark\n",
    "val df=spark.read.parquet(\"parquet/captain/iaq/20180607\",\"parquet/captain/iaq/20180608\",\"parquet/captain/iaq/20180609\")\n",
    ".filter(\"dev_id in ('Z01LTEMA08A01P9009','Z01LTEMA08A01P8449','Z01LTEMA08A01P9405','Z01LTEMA08A01P8282','Z01LTEMA08A01P8704')\")\n",
    ".selectExpr(\"dt\",\"dev_dt\",\"dev_id\",\"pm10\",\"co2\")\n",
    "df.coalesce(1).write.option(\"header\", \"true\").csv(\"/tmp/ante_0607_0609.csv\")\n",
    "```"
   ]
  },
  {
   "cell_type": "markdown",
   "metadata": {},
   "source": [
    "## data handling on hdfs\n",
    "```bash\n",
    "%sh\n",
    "\n",
    "# combine two files\n",
    "#hdfs dfs -getmerge /tmp/iaq_201805.csv /data/khe/iaq_201805.csv\n",
    "# count the rows\n",
    "#wc -l /data/khe/iaq_201805.csv\n",
    "# list up the hdfs\n",
    "hdfs dfs -ls /tmp\n",
    "# delete the temp files\n",
    "#hdfs dfs -rm -r -skipTrash /tmp/iaq_0501.csv /tmp/iaq_0501_0507.csv /tmp/iaq_201805.csv\n",
    "# transfer the file to cospark dev\n",
    "#scp /data/khe/iaq_201805.csv cwsparkdev:/data/download/cospark/iaq_201805.csv\n",
    "```"
   ]
  },
  {
   "cell_type": "markdown",
   "metadata": {},
   "source": [
    "## PPAS connection\n",
    "```spark\n",
    "import spark.implicits._\n",
    "\n",
    "val oracle_url = \"jdbc:oracle:thin:@10.101.1.212:1521/CDW\"\n",
    "\n",
    "val prop = new java.util.Properties\n",
    "prop.setProperty(\"driver\", \"oracle.jdbc.OracleDriver\")\n",
    "prop.setProperty(\"user\",\"WJV\")\n",
    "prop.setProperty(\"password\",\"wjvc3005\")\n",
    "\n",
    "val df = spark.read.parquet(\"/user/hdfs/parquet/wtrprfr/wtrprfr_err_sttus/20180421\",\"/user/hdfs/parquet/wtrprfr/wtrprfr_err_sttus/20180420\"\n",
    ",\"/user/hdfs/parquet/wtrprfr/wtrprfr_err_sttus/20180419\")\n",
    "df.toDF(df.columns.map(_.toUpperCase): _*).write.mode(\"append\").jdbc(oracle_url,\"wtrprfr_err_sttus_20180426\",prop)\n",
    "```"
   ]
  },
  {
   "cell_type": "markdown",
   "metadata": {},
   "source": [
    "# spark group by, select, aggregation\n",
    "```spark\n",
    "val df=spark.read\n",
    ".parquet(\"/user/hdfs/parquet/captain/iaq/201705*\",\"/user/hdfs/parquet/captain/iaq/201706*\",\"/user/hdfs/parquet/captain/iaq/201707*\"\n",
    ",\"/user/hdfs/parquet/captain/iaq/201708*\",\"/user/hdfs/parquet/captain/iaq/201709*\")\n",
    ".filter(\"devicemodelid in ('COWAY_CAPTAIN_IN','COWAY_BLUEMOON')\")\n",
    ".selectExpr(\"dt\",\"dev_id\",\"humi\",\"temp\")\n",
    ".groupBy(\"dev_id\")\n",
    ".agg(countDistinct(\"dt\").as(\"cnt\"),avg(\"humi\").as(\"avg_humi\"),avg(\"temp\").as(\"avg_temp\")).orderBy(\"dev_id\")\n",
    "df.coalesce(1).write.option(\"header\", \"true\").csv(\"/tmp/iaq_humi_temp_05_09.csv\")\n",
    "```"
   ]
  },
  {
   "cell_type": "code",
   "execution_count": null,
   "metadata": {},
   "outputs": [],
   "source": [
    "spark.read.parquet(\n",
    "    \"/user/hdfs/parquet/wtrprfr/wtrprfr_snsr/20170814\",\n",
    "    \"/user/hdfs/parquet/wtrprfr/wtrprfr_snsr/20170815\",\n",
    "    \"/user/hdfs/parquet/wtrprfr/wtrprfr_snsr/20170816\",\n",
    "    \"/user/hdfs/parquet/wtrprfr/wtrprfr_snsr/20170817\",\n",
    "    \"/user/hdfs/parquet/wtrprfr/wtrprfr_snsr/20170818\",\n",
    "    \"/user/hdfs/parquet/wtrprfr/wtrprfr_snsr/20170819\",\n",
    "    \"/user/hdfs/parquet/wtrprfr/wtrprfr_snsr/20170820\"\n",
    ")\n",
    ".filter(\"devicemodelid in ('COWAY_AIS_HOT', 'COWAY_AIS_SODA' )\")\n",
    ".groupBy(\"dev_id\").count.filter(\"count > 10000 and count < 10200\").orderBy(rand()).limit(100).createOrReplaceTempView(\"a1\")"
   ]
  },
  {
   "cell_type": "code",
   "execution_count": null,
   "metadata": {},
   "outputs": [],
   "source": [
    "val df=\n",
    "spark.read.parquet(\n",
    "    \"/user/hdfs/parquet/captain/iaq/201809*\"\n",
    ")\n",
    ".filter(\"devicemodelid in ('COWAY_CAPTAIN_IN','COWAY_BLUEMOON')\")\n",
    ".selectExpr(\"dt\",\"dev_dt\",\"dev_id\",\"humi\",\"temp\")\n",
    ".groupBy(\"dt\",\"dev_id\")\n",
    ".agg(countDistinct(\"dev_dt\").as(\"cnt\"),min(\"humi\").as(\"min_humi\"),avg(\"humi\").as(\"avg_humi\"),max(\"humi\").as(\"max_humi\"),\n",
    "min(\"temp\").as(\"min_temp\"),avg(\"temp\").as(\"avg_temp\"),max(\"temp\").as(\"max_temp\")).orderBy(\"dev_id\",\"dt\")\n",
    "df.coalesce(1).write.option(\"header\", \"true\").csv(\"/tmp/iaq_humi_temp_201809.csv\")"
   ]
  },
  {
   "cell_type": "code",
   "execution_count": null,
   "metadata": {},
   "outputs": [],
   "source": [
    "val url = \"jdbc:oracle:thin:@10.101.1.212:1521/CDW\"\n",
    "val prop = new java.util.Properties\n",
    "prop.setProperty(\"driver\", \"oracle.jdbc.driver.OracleDriver\")\n",
    "prop.setProperty(\"user\",\"WJV\")\n",
    "prop.setProperty(\"password\",\"wjvc3005\")\n",
    "\n",
    "val df_tk = spark.read.jdbc(url, \"TM_IOT_DEV_ID\", prop)\n",
    "df_tk.createOrReplaceTempView(\"TM_IOT_DEV_ID\")\n"
   ]
  },
  {
   "cell_type": "code",
   "execution_count": null,
   "metadata": {},
   "outputs": [],
   "source": [
    "spark.read.parquet(\"parquet/captain/iaq/20181023\").filter(\"devicemodelid='COWAY_CAPTAIN_IN'\").createOrReplaceTempView(\"iaq_capt_1023\")"
   ]
  },
  {
   "cell_type": "code",
   "execution_count": null,
   "metadata": {},
   "outputs": [],
   "source": [
    "%sql\n",
    "select b.ct_nm, count(distinct dev_id)\n",
    "from iaq_capt_1023 a, TM_IOT_DEV_ID b\n",
    "where a.dev_id=b.sernr(+)\n",
    "and b.PROD_SUB_CD(+) = 'CAPT' \n",
    "and b.DO_NM(+) = '서울'\n",
    "group by  b.ct_nm\n",
    "order by 2 desc"
   ]
  },
  {
   "cell_type": "code",
   "execution_count": null,
   "metadata": {},
   "outputs": [],
   "source": [
    "%sql\n",
    "select DO_NM, count(USE_CUST_ID)\n",
    "from TM_IOT_DEV_ID\n",
    "where PROD_SUB_CD = 'CAPT'\n",
    "group by DO_NM\n",
    "order by 2 desc"
   ]
  },
  {
   "cell_type": "code",
   "execution_count": null,
   "metadata": {},
   "outputs": [],
   "source": [
    "%sql\n",
    "select CT_NM, count(USE_CUST_ID)\n",
    "from TM_IOT_DEV_ID\n",
    "where PROD_SUB_CD = 'CAPT' and DO_NM = '울산'\n",
    "group by CT_NM\n",
    "order by 2 desc"
   ]
  },
  {
   "cell_type": "code",
   "execution_count": null,
   "metadata": {},
   "outputs": [],
   "source": [
    "%sql\n",
    "select CT_NM, count(USE_CUST_ID)\n",
    "from TM_IOT_DEV_ID\n",
    "where PROD_SUB_CD = 'CAPT' and DO_NM = '서울'\n",
    "group by CT_NM\n",
    "order by 2 desc"
   ]
  },
  {
   "cell_type": "code",
   "execution_count": null,
   "metadata": {},
   "outputs": [],
   "source": [
    "%sql\n",
    "select tm, substr(dev_id, 4,5), count(*)\n",
    "from aa\n",
    "group by tm, substr(dev_id, 4,5)\n",
    "order by 1,2"
   ]
  },
  {
   "cell_type": "code",
   "execution_count": null,
   "metadata": {},
   "outputs": [],
   "source": [
    "z.show(spark.read.parquet(\"/user/hdfs/parquet/captain/airprfr_sttus/201805*\").filter(\"light_stng not in ('0','1','2')\"))\n"
   ]
  },
  {
   "cell_type": "code",
   "execution_count": null,
   "metadata": {},
   "outputs": [],
   "source": [
    "%sql\n",
    "select substr(dev_dt,12,2) as tm, substr(dev_id,4,5) as dev_id45\n",
    "     , count(distinct dev_id) as cnt\n",
    "     , sum(pm10) as sum_pm10\n",
    "     , sum(pm25) as sum_pm25\n",
    "     , sum(voc_ref) as sum_voc_ref\n",
    "     , sum(voc_now) as sum_voc_now\n",
    "     , sum(humi) as sum_humi\n",
    "     , sum(temp) as sum_temp\n",
    "     , sum(lux) as sum_lux\n",
    "     , sum(co2) as sum_co2\n",
    "     , sum(elect_watt) as sum_elect_watt\n",
    "     , sum(iaq_idx) as sum_iaq_idx\n",
    "     , sum(lux) as sum_lux\n",
    "     , avg(pm10) as pm10\n",
    "     , avg(pm25) as pm25\n",
    "     , avg(voc_ref) as voc_ref\n",
    "     , avg(voc_now) as voc_now\n",
    "     , avg(humi) as humi\n",
    "     , avg(temp) as temp\n",
    "     , avg(lux) as lux\n",
    "     , avg(co2) as co2\n",
    "     , avg(elect_watt) as elect_watt\n",
    "     , avg(iaq_idx) as iaq_idx\n",
    "     , avg(lux) as lux\n",
    "from bb\n",
    "group by substr(dev_dt,12,2), substr(dev_id,4,5)\n",
    "order by 1, 2"
   ]
  },
  {
   "cell_type": "code",
   "execution_count": null,
   "metadata": {},
   "outputs": [],
   "source": [
    "%sql\n",
    "select devicemodelid, count(distinct dev_id), count(dev_id)\n",
    "from wtr\n",
    "where extrt_wtr_qnt is not null \n",
    "and extrt_wtr_qnt>0\n",
    "group by devicemodelid"
   ]
  },
  {
   "cell_type": "code",
   "execution_count": null,
   "metadata": {},
   "outputs": [],
   "source": [
    "z.show(spark.read.parquet(\"/user/hdfs/parquet/captain/iaq_sttus/20180811\")\n",
    ".filter(\"dev_id='19302D8F1731700121'\").orderBy(\"dev_dt\"))\n"
   ]
  },
  {
   "cell_type": "code",
   "execution_count": null,
   "metadata": {},
   "outputs": [],
   "source": [
    "z.show(\n",
    "spark.read.parquet(\n",
    "    \"/user/hdfs/parquet/captain/iaq/201805*\"\n",
    ")\n",
    ".filter(\"dev_id='17202ES817C1300006'\")\n",
    ".selectExpr(\"dt\",\"dev_dt\",\"dev_id\",\"humi\",\"temp\")\n",
    ".groupBy(\"dt\",\"dev_id\")\n",
    ".agg(countDistinct(\"dev_dt\").as(\"cnt\"),min(\"humi\").as(\"min_humi\"),avg(\"humi\").as(\"avg_humi\"),max(\"humi\").as(\"max_humi\"),\n",
    "min(\"temp\").as(\"min_temp\"),avg(\"temp\").as(\"avg_temp\"),max(\"temp\").as(\"max_temp\")).orderBy(\"dev_id\",\"dt\"))\n"
   ]
  },
  {
   "cell_type": "code",
   "execution_count": null,
   "metadata": {},
   "outputs": [],
   "source": [
    "z.show(spark.read.parquet(\"parquet/wtrprfr/wtrprfr_sttus/201806\").filter(\"dev_id in'10602EUL17A1700003','10702EUL1770500636','10702EUL1771100027'\"))"
   ]
  },
  {
   "cell_type": "code",
   "execution_count": null,
   "metadata": {},
   "outputs": [],
   "source": [
    "z.show(spark.read.parquet(\"parquet/wtrprfr/wtrprfr_sttus/201803*\").filter(\"dev_id='10602EUL17A1700003' and wtr_sel=7\")\n",
    ".select(\"dev_id\", \"dev_dt\",\"\"))"
   ]
  },
  {
   "cell_type": "code",
   "execution_count": null,
   "metadata": {},
   "outputs": [],
   "source": []
  }
 ],
 "metadata": {
  "kernelspec": {
   "display_name": "coway_cp36",
   "language": "python",
   "name": "coway_cp36"
  },
  "language_info": {
   "codemirror_mode": {
    "name": "ipython",
    "version": 3
   },
   "file_extension": ".py",
   "mimetype": "text/x-python",
   "name": "python",
   "nbconvert_exporter": "python",
   "pygments_lexer": "ipython3",
   "version": "3.6.7"
  }
 },
 "nbformat": 4,
 "nbformat_minor": 2
}
